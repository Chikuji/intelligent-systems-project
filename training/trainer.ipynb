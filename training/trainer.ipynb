{
 "cells": [
  {
   "cell_type": "markdown",
   "id": "d5542daa",
   "metadata": {},
   "source": [
    "\n",
    "# Pipeline de Machine Larning - Model\n",
    "\n",
    "1- Excluir colunas e linhas\n",
    "2- \n"
   ]
  },
  {
   "cell_type": "markdown",
   "id": "f8bb4a6c",
   "metadata": {},
   "source": [
    "## 0 - Importar Bibliotecas"
   ]
  },
  {
   "cell_type": "code",
   "execution_count": 73,
   "id": "17a94e99",
   "metadata": {},
   "outputs": [],
   "source": [
    "# Bibliotecas\n",
    "\n",
    "import os\n",
    "import pandas as pd\n",
    "import numpy as np\n",
    "import seaborn as sns\n",
    "import matplotlib.pyplot as plt\n",
    "\n",
    "from sklearn import svm\n",
    "from sklearn.preprocessing import LabelBinarizer\n",
    "from sklearn.ensemble import RandomForestClassifier\n",
    "from sklearn.preprocessing import MinMaxScaler\n",
    "from sklearn.model_selection import GridSearchCV\n",
    "from sklearn import model_selection"
   ]
  },
  {
   "cell_type": "markdown",
   "id": "60b82dbb",
   "metadata": {},
   "source": [
    "## 1 - Carregar os dados brutos"
   ]
  },
  {
   "cell_type": "code",
   "execution_count": 31,
   "id": "270e5b3f",
   "metadata": {},
   "outputs": [],
   "source": [
    "# Carga dos dados\n",
    "\n",
    "sample_products_csv = os.environ['DATASET_PATH']\n",
    "df = pd.read_csv(sample_products_csv)"
   ]
  },
  {
   "cell_type": "code",
   "execution_count": 32,
   "id": "d090f37f",
   "metadata": {},
   "outputs": [
    {
     "name": "stdout",
     "output_type": "stream",
     "text": [
      "<class 'pandas.core.frame.DataFrame'>\n",
      "RangeIndex: 38000 entries, 0 to 37999\n",
      "Data columns (total 15 columns):\n",
      " #   Column             Non-Null Count  Dtype  \n",
      "---  ------             --------------  -----  \n",
      " 0   product_id         38000 non-null  int64  \n",
      " 1   seller_id          38000 non-null  int64  \n",
      " 2   query              38000 non-null  object \n",
      " 3   search_page        38000 non-null  int64  \n",
      " 4   position           38000 non-null  int64  \n",
      " 5   title              38000 non-null  object \n",
      " 6   concatenated_tags  37998 non-null  object \n",
      " 7   creation_date      38000 non-null  object \n",
      " 8   price              38000 non-null  float64\n",
      " 9   weight             37942 non-null  float64\n",
      " 10  express_delivery   38000 non-null  int64  \n",
      " 11  minimum_quantity   38000 non-null  int64  \n",
      " 12  view_counts        38000 non-null  int64  \n",
      " 13  order_counts       17895 non-null  float64\n",
      " 14  category           38000 non-null  object \n",
      "dtypes: float64(3), int64(7), object(5)\n",
      "memory usage: 4.3+ MB\n"
     ]
    }
   ],
   "source": [
    "# Informações gerais\n",
    "\n",
    "df.info()"
   ]
  },
  {
   "cell_type": "code",
   "execution_count": 33,
   "id": "f9191f48",
   "metadata": {
    "scrolled": true
   },
   "outputs": [
    {
     "data": {
      "text/html": [
       "<div>\n",
       "<style scoped>\n",
       "    .dataframe tbody tr th:only-of-type {\n",
       "        vertical-align: middle;\n",
       "    }\n",
       "\n",
       "    .dataframe tbody tr th {\n",
       "        vertical-align: top;\n",
       "    }\n",
       "\n",
       "    .dataframe thead th {\n",
       "        text-align: right;\n",
       "    }\n",
       "</style>\n",
       "<table border=\"1\" class=\"dataframe\">\n",
       "  <thead>\n",
       "    <tr style=\"text-align: right;\">\n",
       "      <th></th>\n",
       "      <th>product_id</th>\n",
       "      <th>seller_id</th>\n",
       "      <th>query</th>\n",
       "      <th>search_page</th>\n",
       "      <th>position</th>\n",
       "      <th>title</th>\n",
       "      <th>concatenated_tags</th>\n",
       "      <th>creation_date</th>\n",
       "      <th>price</th>\n",
       "      <th>weight</th>\n",
       "      <th>express_delivery</th>\n",
       "      <th>minimum_quantity</th>\n",
       "      <th>view_counts</th>\n",
       "      <th>order_counts</th>\n",
       "      <th>category</th>\n",
       "    </tr>\n",
       "  </thead>\n",
       "  <tbody>\n",
       "    <tr>\n",
       "      <th>0</th>\n",
       "      <td>11394449</td>\n",
       "      <td>8324141</td>\n",
       "      <td>espirito santo</td>\n",
       "      <td>2</td>\n",
       "      <td>6</td>\n",
       "      <td>Mandala Espírito Santo</td>\n",
       "      <td>mandala mdf</td>\n",
       "      <td>2015-11-14 19:42:12</td>\n",
       "      <td>171.890000</td>\n",
       "      <td>1200.0</td>\n",
       "      <td>1</td>\n",
       "      <td>4</td>\n",
       "      <td>244</td>\n",
       "      <td>NaN</td>\n",
       "      <td>Decoração</td>\n",
       "    </tr>\n",
       "    <tr>\n",
       "      <th>1</th>\n",
       "      <td>15534262</td>\n",
       "      <td>6939286</td>\n",
       "      <td>cartao de visita</td>\n",
       "      <td>2</td>\n",
       "      <td>0</td>\n",
       "      <td>Cartão de Visita</td>\n",
       "      <td>cartao visita panfletos tag adesivos copos lon...</td>\n",
       "      <td>2018-04-04 20:55:07</td>\n",
       "      <td>77.670000</td>\n",
       "      <td>8.0</td>\n",
       "      <td>1</td>\n",
       "      <td>5</td>\n",
       "      <td>124</td>\n",
       "      <td>NaN</td>\n",
       "      <td>Papel e Cia</td>\n",
       "    </tr>\n",
       "    <tr>\n",
       "      <th>2</th>\n",
       "      <td>16153119</td>\n",
       "      <td>9835835</td>\n",
       "      <td>expositor de esmaltes</td>\n",
       "      <td>1</td>\n",
       "      <td>38</td>\n",
       "      <td>Organizador expositor p/ 70 esmaltes</td>\n",
       "      <td>expositor</td>\n",
       "      <td>2018-10-13 20:57:07</td>\n",
       "      <td>73.920006</td>\n",
       "      <td>2709.0</td>\n",
       "      <td>1</td>\n",
       "      <td>1</td>\n",
       "      <td>59</td>\n",
       "      <td>NaN</td>\n",
       "      <td>Outros</td>\n",
       "    </tr>\n",
       "    <tr>\n",
       "      <th>3</th>\n",
       "      <td>15877252</td>\n",
       "      <td>8071206</td>\n",
       "      <td>medidas lencol para berco americano</td>\n",
       "      <td>1</td>\n",
       "      <td>6</td>\n",
       "      <td>Jogo de Lençol Berço Estampado</td>\n",
       "      <td>t jogo lencol menino lencol berco</td>\n",
       "      <td>2017-02-27 13:26:03</td>\n",
       "      <td>118.770004</td>\n",
       "      <td>0.0</td>\n",
       "      <td>1</td>\n",
       "      <td>1</td>\n",
       "      <td>180</td>\n",
       "      <td>1.0</td>\n",
       "      <td>Bebê</td>\n",
       "    </tr>\n",
       "    <tr>\n",
       "      <th>4</th>\n",
       "      <td>15917108</td>\n",
       "      <td>7200773</td>\n",
       "      <td>adesivo box banheiro</td>\n",
       "      <td>3</td>\n",
       "      <td>38</td>\n",
       "      <td>ADESIVO BOX DE BANHEIRO</td>\n",
       "      <td>adesivo box banheiro</td>\n",
       "      <td>2017-05-09 13:18:38</td>\n",
       "      <td>191.810000</td>\n",
       "      <td>507.0</td>\n",
       "      <td>1</td>\n",
       "      <td>6</td>\n",
       "      <td>34</td>\n",
       "      <td>NaN</td>\n",
       "      <td>Decoração</td>\n",
       "    </tr>\n",
       "    <tr>\n",
       "      <th>...</th>\n",
       "      <td>...</td>\n",
       "      <td>...</td>\n",
       "      <td>...</td>\n",
       "      <td>...</td>\n",
       "      <td>...</td>\n",
       "      <td>...</td>\n",
       "      <td>...</td>\n",
       "      <td>...</td>\n",
       "      <td>...</td>\n",
       "      <td>...</td>\n",
       "      <td>...</td>\n",
       "      <td>...</td>\n",
       "      <td>...</td>\n",
       "      <td>...</td>\n",
       "      <td>...</td>\n",
       "    </tr>\n",
       "    <tr>\n",
       "      <th>37995</th>\n",
       "      <td>13230578</td>\n",
       "      <td>1756482</td>\n",
       "      <td>mochila personalizada galinha pintadinha</td>\n",
       "      <td>1</td>\n",
       "      <td>2</td>\n",
       "      <td>Mochila Galinha Pintadinha M</td>\n",
       "      <td>primaria 2019 1 aninho abdulzinho mochilas ani...</td>\n",
       "      <td>2016-09-17 10:49:39</td>\n",
       "      <td>18.790000</td>\n",
       "      <td>149.0</td>\n",
       "      <td>1</td>\n",
       "      <td>27</td>\n",
       "      <td>321</td>\n",
       "      <td>NaN</td>\n",
       "      <td>Lembrancinhas</td>\n",
       "    </tr>\n",
       "    <tr>\n",
       "      <th>37996</th>\n",
       "      <td>6736914</td>\n",
       "      <td>9301388</td>\n",
       "      <td>tag dia dos pais</td>\n",
       "      <td>1</td>\n",
       "      <td>32</td>\n",
       "      <td>30 TAGS DIA DOS PAIS 005</td>\n",
       "      <td>dia pais</td>\n",
       "      <td>2019-06-12 17:03:52</td>\n",
       "      <td>31.680000</td>\n",
       "      <td>7.0</td>\n",
       "      <td>1</td>\n",
       "      <td>1</td>\n",
       "      <td>43</td>\n",
       "      <td>NaN</td>\n",
       "      <td>Papel e Cia</td>\n",
       "    </tr>\n",
       "    <tr>\n",
       "      <th>37997</th>\n",
       "      <td>11017911</td>\n",
       "      <td>8732362</td>\n",
       "      <td>kit bolsa maternidade</td>\n",
       "      <td>5</td>\n",
       "      <td>31</td>\n",
       "      <td>Kit bolsa bebê maternidade personalizada</td>\n",
       "      <td>paula carvalho bebe</td>\n",
       "      <td>2018-08-24 11:43:00</td>\n",
       "      <td>543.170000</td>\n",
       "      <td>3006.0</td>\n",
       "      <td>1</td>\n",
       "      <td>4</td>\n",
       "      <td>515</td>\n",
       "      <td>18.0</td>\n",
       "      <td>Bebê</td>\n",
       "    </tr>\n",
       "    <tr>\n",
       "      <th>37998</th>\n",
       "      <td>6807331</td>\n",
       "      <td>1869417</td>\n",
       "      <td>festa 15 anos</td>\n",
       "      <td>1</td>\n",
       "      <td>8</td>\n",
       "      <td>Chaveiro Almofada 15 anos</td>\n",
       "      <td>yasmin centro mesa compras 15 anos 2020 lembra...</td>\n",
       "      <td>2017-10-21 18:49:56</td>\n",
       "      <td>10.720000</td>\n",
       "      <td>18.0</td>\n",
       "      <td>1</td>\n",
       "      <td>53</td>\n",
       "      <td>2456</td>\n",
       "      <td>138.0</td>\n",
       "      <td>Lembrancinhas</td>\n",
       "    </tr>\n",
       "    <tr>\n",
       "      <th>37999</th>\n",
       "      <td>6866725</td>\n",
       "      <td>4533209</td>\n",
       "      <td>painel aniversariantes em eva</td>\n",
       "      <td>1</td>\n",
       "      <td>8</td>\n",
       "      <td>Painel Aniversariantes do dia em EVA</td>\n",
       "      <td>painel sala aula</td>\n",
       "      <td>2017-10-28 00:33:44</td>\n",
       "      <td>39.210000</td>\n",
       "      <td>5.0</td>\n",
       "      <td>1</td>\n",
       "      <td>5</td>\n",
       "      <td>132</td>\n",
       "      <td>NaN</td>\n",
       "      <td>Decoração</td>\n",
       "    </tr>\n",
       "  </tbody>\n",
       "</table>\n",
       "<p>38000 rows × 15 columns</p>\n",
       "</div>"
      ],
      "text/plain": [
       "       product_id  seller_id                                     query  \\\n",
       "0        11394449    8324141                            espirito santo   \n",
       "1        15534262    6939286                          cartao de visita   \n",
       "2        16153119    9835835                     expositor de esmaltes   \n",
       "3        15877252    8071206       medidas lencol para berco americano   \n",
       "4        15917108    7200773                      adesivo box banheiro   \n",
       "...           ...        ...                                       ...   \n",
       "37995    13230578    1756482  mochila personalizada galinha pintadinha   \n",
       "37996     6736914    9301388                          tag dia dos pais   \n",
       "37997    11017911    8732362                     kit bolsa maternidade   \n",
       "37998     6807331    1869417                             festa 15 anos   \n",
       "37999     6866725    4533209             painel aniversariantes em eva   \n",
       "\n",
       "       search_page  position                                     title  \\\n",
       "0                2         6                    Mandala Espírito Santo   \n",
       "1                2         0                          Cartão de Visita   \n",
       "2                1        38      Organizador expositor p/ 70 esmaltes   \n",
       "3                1         6            Jogo de Lençol Berço Estampado   \n",
       "4                3        38                   ADESIVO BOX DE BANHEIRO   \n",
       "...            ...       ...                                       ...   \n",
       "37995            1         2              Mochila Galinha Pintadinha M   \n",
       "37996            1        32                  30 TAGS DIA DOS PAIS 005   \n",
       "37997            5        31  Kit bolsa bebê maternidade personalizada   \n",
       "37998            1         8                 Chaveiro Almofada 15 anos   \n",
       "37999            1         8      Painel Aniversariantes do dia em EVA   \n",
       "\n",
       "                                       concatenated_tags        creation_date  \\\n",
       "0                                            mandala mdf  2015-11-14 19:42:12   \n",
       "1      cartao visita panfletos tag adesivos copos lon...  2018-04-04 20:55:07   \n",
       "2                                              expositor  2018-10-13 20:57:07   \n",
       "3                      t jogo lencol menino lencol berco  2017-02-27 13:26:03   \n",
       "4                                   adesivo box banheiro  2017-05-09 13:18:38   \n",
       "...                                                  ...                  ...   \n",
       "37995  primaria 2019 1 aninho abdulzinho mochilas ani...  2016-09-17 10:49:39   \n",
       "37996                                           dia pais  2019-06-12 17:03:52   \n",
       "37997                                paula carvalho bebe  2018-08-24 11:43:00   \n",
       "37998  yasmin centro mesa compras 15 anos 2020 lembra...  2017-10-21 18:49:56   \n",
       "37999                                   painel sala aula  2017-10-28 00:33:44   \n",
       "\n",
       "            price  weight  express_delivery  minimum_quantity  view_counts  \\\n",
       "0      171.890000  1200.0                 1                 4          244   \n",
       "1       77.670000     8.0                 1                 5          124   \n",
       "2       73.920006  2709.0                 1                 1           59   \n",
       "3      118.770004     0.0                 1                 1          180   \n",
       "4      191.810000   507.0                 1                 6           34   \n",
       "...           ...     ...               ...               ...          ...   \n",
       "37995   18.790000   149.0                 1                27          321   \n",
       "37996   31.680000     7.0                 1                 1           43   \n",
       "37997  543.170000  3006.0                 1                 4          515   \n",
       "37998   10.720000    18.0                 1                53         2456   \n",
       "37999   39.210000     5.0                 1                 5          132   \n",
       "\n",
       "       order_counts       category  \n",
       "0               NaN      Decoração  \n",
       "1               NaN    Papel e Cia  \n",
       "2               NaN         Outros  \n",
       "3               1.0           Bebê  \n",
       "4               NaN      Decoração  \n",
       "...             ...            ...  \n",
       "37995           NaN  Lembrancinhas  \n",
       "37996           NaN    Papel e Cia  \n",
       "37997          18.0           Bebê  \n",
       "37998         138.0  Lembrancinhas  \n",
       "37999           NaN      Decoração  \n",
       "\n",
       "[38000 rows x 15 columns]"
      ]
     },
     "execution_count": 33,
     "metadata": {},
     "output_type": "execute_result"
    }
   ],
   "source": [
    "df"
   ]
  },
  {
   "cell_type": "code",
   "execution_count": 34,
   "id": "93bbf2f1",
   "metadata": {},
   "outputs": [
    {
     "data": {
      "text/plain": [
       "['product_id',\n",
       " 'seller_id',\n",
       " 'query',\n",
       " 'search_page',\n",
       " 'position',\n",
       " 'title',\n",
       " 'concatenated_tags',\n",
       " 'creation_date',\n",
       " 'price',\n",
       " 'weight',\n",
       " 'express_delivery',\n",
       " 'minimum_quantity',\n",
       " 'view_counts',\n",
       " 'order_counts',\n",
       " 'category']"
      ]
     },
     "execution_count": 34,
     "metadata": {},
     "output_type": "execute_result"
    }
   ],
   "source": [
    "df.columns.to_list()"
   ]
  },
  {
   "cell_type": "markdown",
   "id": "7c935e82",
   "metadata": {},
   "source": [
    "##  2 - Excluir Colunas e Linhas"
   ]
  },
  {
   "cell_type": "code",
   "execution_count": 35,
   "id": "bdaa1fb9",
   "metadata": {},
   "outputs": [],
   "source": [
    "# Excluir colunas\n",
    "\n",
    "df.drop(columns=['product_id',\n",
    "                 'seller_id',\n",
    "                 'query',\n",
    "                 'title',\n",
    "                 'concatenated_tags',\n",
    "                 'creation_date',\n",
    "                 'express_delivery',\n",
    "                 'order_counts'], inplace=True)"
   ]
  },
  {
   "cell_type": "code",
   "execution_count": 36,
   "id": "7b3c131a",
   "metadata": {},
   "outputs": [
    {
     "data": {
      "text/plain": [
       "search_page          0\n",
       "position             0\n",
       "price                0\n",
       "weight              58\n",
       "minimum_quantity     0\n",
       "view_counts          0\n",
       "category             0\n",
       "dtype: int64"
      ]
     },
     "execution_count": 36,
     "metadata": {},
     "output_type": "execute_result"
    }
   ],
   "source": [
    "df.isnull().sum()"
   ]
  },
  {
   "cell_type": "code",
   "execution_count": 37,
   "id": "58c388f1",
   "metadata": {},
   "outputs": [],
   "source": [
    "# Excluir linhas\n",
    "\n",
    "df.dropna(inplace=True)"
   ]
  },
  {
   "cell_type": "code",
   "execution_count": 47,
   "id": "3127337e",
   "metadata": {},
   "outputs": [
    {
     "data": {
      "text/html": [
       "<div>\n",
       "<style scoped>\n",
       "    .dataframe tbody tr th:only-of-type {\n",
       "        vertical-align: middle;\n",
       "    }\n",
       "\n",
       "    .dataframe tbody tr th {\n",
       "        vertical-align: top;\n",
       "    }\n",
       "\n",
       "    .dataframe thead th {\n",
       "        text-align: right;\n",
       "    }\n",
       "</style>\n",
       "<table border=\"1\" class=\"dataframe\">\n",
       "  <thead>\n",
       "    <tr style=\"text-align: right;\">\n",
       "      <th></th>\n",
       "      <th>search_page</th>\n",
       "      <th>position</th>\n",
       "      <th>price</th>\n",
       "      <th>weight</th>\n",
       "      <th>minimum_quantity</th>\n",
       "      <th>view_counts</th>\n",
       "      <th>category</th>\n",
       "    </tr>\n",
       "  </thead>\n",
       "  <tbody>\n",
       "    <tr>\n",
       "      <th>0</th>\n",
       "      <td>2</td>\n",
       "      <td>6</td>\n",
       "      <td>171.890000</td>\n",
       "      <td>1200.0</td>\n",
       "      <td>4</td>\n",
       "      <td>244</td>\n",
       "      <td>Decoração</td>\n",
       "    </tr>\n",
       "    <tr>\n",
       "      <th>1</th>\n",
       "      <td>2</td>\n",
       "      <td>0</td>\n",
       "      <td>77.670000</td>\n",
       "      <td>8.0</td>\n",
       "      <td>5</td>\n",
       "      <td>124</td>\n",
       "      <td>Papel e Cia</td>\n",
       "    </tr>\n",
       "    <tr>\n",
       "      <th>2</th>\n",
       "      <td>1</td>\n",
       "      <td>38</td>\n",
       "      <td>73.920006</td>\n",
       "      <td>2709.0</td>\n",
       "      <td>1</td>\n",
       "      <td>59</td>\n",
       "      <td>Outros</td>\n",
       "    </tr>\n",
       "    <tr>\n",
       "      <th>3</th>\n",
       "      <td>1</td>\n",
       "      <td>6</td>\n",
       "      <td>118.770004</td>\n",
       "      <td>0.0</td>\n",
       "      <td>1</td>\n",
       "      <td>180</td>\n",
       "      <td>Bebê</td>\n",
       "    </tr>\n",
       "    <tr>\n",
       "      <th>4</th>\n",
       "      <td>3</td>\n",
       "      <td>38</td>\n",
       "      <td>191.810000</td>\n",
       "      <td>507.0</td>\n",
       "      <td>6</td>\n",
       "      <td>34</td>\n",
       "      <td>Decoração</td>\n",
       "    </tr>\n",
       "    <tr>\n",
       "      <th>...</th>\n",
       "      <td>...</td>\n",
       "      <td>...</td>\n",
       "      <td>...</td>\n",
       "      <td>...</td>\n",
       "      <td>...</td>\n",
       "      <td>...</td>\n",
       "      <td>...</td>\n",
       "    </tr>\n",
       "    <tr>\n",
       "      <th>37995</th>\n",
       "      <td>1</td>\n",
       "      <td>2</td>\n",
       "      <td>18.790000</td>\n",
       "      <td>149.0</td>\n",
       "      <td>27</td>\n",
       "      <td>321</td>\n",
       "      <td>Lembrancinhas</td>\n",
       "    </tr>\n",
       "    <tr>\n",
       "      <th>37996</th>\n",
       "      <td>1</td>\n",
       "      <td>32</td>\n",
       "      <td>31.680000</td>\n",
       "      <td>7.0</td>\n",
       "      <td>1</td>\n",
       "      <td>43</td>\n",
       "      <td>Papel e Cia</td>\n",
       "    </tr>\n",
       "    <tr>\n",
       "      <th>37997</th>\n",
       "      <td>5</td>\n",
       "      <td>31</td>\n",
       "      <td>543.170000</td>\n",
       "      <td>3006.0</td>\n",
       "      <td>4</td>\n",
       "      <td>515</td>\n",
       "      <td>Bebê</td>\n",
       "    </tr>\n",
       "    <tr>\n",
       "      <th>37998</th>\n",
       "      <td>1</td>\n",
       "      <td>8</td>\n",
       "      <td>10.720000</td>\n",
       "      <td>18.0</td>\n",
       "      <td>53</td>\n",
       "      <td>2456</td>\n",
       "      <td>Lembrancinhas</td>\n",
       "    </tr>\n",
       "    <tr>\n",
       "      <th>37999</th>\n",
       "      <td>1</td>\n",
       "      <td>8</td>\n",
       "      <td>39.210000</td>\n",
       "      <td>5.0</td>\n",
       "      <td>5</td>\n",
       "      <td>132</td>\n",
       "      <td>Decoração</td>\n",
       "    </tr>\n",
       "  </tbody>\n",
       "</table>\n",
       "<p>37942 rows × 7 columns</p>\n",
       "</div>"
      ],
      "text/plain": [
       "       search_page  position       price  weight  minimum_quantity  \\\n",
       "0                2         6  171.890000  1200.0                 4   \n",
       "1                2         0   77.670000     8.0                 5   \n",
       "2                1        38   73.920006  2709.0                 1   \n",
       "3                1         6  118.770004     0.0                 1   \n",
       "4                3        38  191.810000   507.0                 6   \n",
       "...            ...       ...         ...     ...               ...   \n",
       "37995            1         2   18.790000   149.0                27   \n",
       "37996            1        32   31.680000     7.0                 1   \n",
       "37997            5        31  543.170000  3006.0                 4   \n",
       "37998            1         8   10.720000    18.0                53   \n",
       "37999            1         8   39.210000     5.0                 5   \n",
       "\n",
       "       view_counts       category  \n",
       "0              244      Decoração  \n",
       "1              124    Papel e Cia  \n",
       "2               59         Outros  \n",
       "3              180           Bebê  \n",
       "4               34      Decoração  \n",
       "...            ...            ...  \n",
       "37995          321  Lembrancinhas  \n",
       "37996           43    Papel e Cia  \n",
       "37997          515           Bebê  \n",
       "37998         2456  Lembrancinhas  \n",
       "37999          132      Decoração  \n",
       "\n",
       "[37942 rows x 7 columns]"
      ]
     },
     "execution_count": 47,
     "metadata": {},
     "output_type": "execute_result"
    }
   ],
   "source": [
    "df"
   ]
  },
  {
   "cell_type": "markdown",
   "id": "0053059e",
   "metadata": {},
   "source": [
    "## 3 - Transformar categoria em numero (vetor)"
   ]
  },
  {
   "cell_type": "code",
   "execution_count": 45,
   "id": "5ff84691",
   "metadata": {},
   "outputs": [
    {
     "name": "stdout",
     "output_type": "stream",
     "text": [
      "[[0 0 1 0 0 0]\n",
      " [0 0 0 0 0 1]\n",
      " [0 0 0 0 1 0]\n",
      " ...\n",
      " [1 0 0 0 0 0]\n",
      " [0 0 0 1 0 0]\n",
      " [0 0 1 0 0 0]]\n"
     ]
    }
   ],
   "source": [
    "y = df['category']\n",
    "df_y = LabelBinarizer().fit_transform(y)\n",
    "print(df_y)"
   ]
  },
  {
   "cell_type": "markdown",
   "id": "10311fdd",
   "metadata": {},
   "source": [
    "## 4 - Features de entrada"
   ]
  },
  {
   "cell_type": "code",
   "execution_count": 44,
   "id": "8b0f225e",
   "metadata": {},
   "outputs": [],
   "source": [
    "df_x = df.drop(['category'], axis=1).values"
   ]
  },
  {
   "cell_type": "code",
   "execution_count": 46,
   "id": "12614c26",
   "metadata": {},
   "outputs": [
    {
     "data": {
      "text/plain": [
       "array([[2.0000000e+00, 6.0000000e+00, 1.7189000e+02, 1.2000000e+03,\n",
       "        4.0000000e+00, 2.4400000e+02],\n",
       "       [2.0000000e+00, 0.0000000e+00, 7.7670000e+01, 8.0000000e+00,\n",
       "        5.0000000e+00, 1.2400000e+02],\n",
       "       [1.0000000e+00, 3.8000000e+01, 7.3920006e+01, 2.7090000e+03,\n",
       "        1.0000000e+00, 5.9000000e+01],\n",
       "       ...,\n",
       "       [5.0000000e+00, 3.1000000e+01, 5.4317000e+02, 3.0060000e+03,\n",
       "        4.0000000e+00, 5.1500000e+02],\n",
       "       [1.0000000e+00, 8.0000000e+00, 1.0720000e+01, 1.8000000e+01,\n",
       "        5.3000000e+01, 2.4560000e+03],\n",
       "       [1.0000000e+00, 8.0000000e+00, 3.9210000e+01, 5.0000000e+00,\n",
       "        5.0000000e+00, 1.3200000e+02]])"
      ]
     },
     "execution_count": 46,
     "metadata": {},
     "output_type": "execute_result"
    }
   ],
   "source": [
    "df_x"
   ]
  },
  {
   "cell_type": "markdown",
   "id": "b1ba06ed",
   "metadata": {},
   "source": [
    "## 4 - Treinar modelo com validação cruzada"
   ]
  },
  {
   "cell_type": "code",
   "execution_count": 76,
   "id": "e8ea3d22",
   "metadata": {},
   "outputs": [
    {
     "ename": "TypeError",
     "evalue": "__init__() got an unexpected keyword argument 'random_state'",
     "output_type": "error",
     "traceback": [
      "\u001b[0;31m---------------------------------------------------------------------------\u001b[0m",
      "\u001b[0;31mTypeError\u001b[0m                                 Traceback (most recent call last)",
      "Input \u001b[0;32mIn [76]\u001b[0m, in \u001b[0;36m<module>\u001b[0;34m\u001b[0m\n\u001b[1;32m      1\u001b[0m parameters \u001b[38;5;241m=\u001b[39m {\u001b[38;5;124m'\u001b[39m\u001b[38;5;124mn_estimators\u001b[39m\u001b[38;5;124m'\u001b[39m:[\u001b[38;5;241m200\u001b[39m,\u001b[38;5;241m250\u001b[39m], \u001b[38;5;124m'\u001b[39m\u001b[38;5;124mmax_depth\u001b[39m\u001b[38;5;124m'\u001b[39m:[\u001b[38;5;241m20\u001b[39m,\u001b[38;5;241m25\u001b[39m]}\n\u001b[0;32m----> 2\u001b[0m forest \u001b[38;5;241m=\u001b[39m \u001b[43mGridSearchCV\u001b[49m\u001b[43m(\u001b[49m\u001b[43mestimator\u001b[49m\u001b[38;5;241;43m=\u001b[39;49m\u001b[43mRandomForestClassifier\u001b[49m\u001b[43m(\u001b[49m\u001b[43m)\u001b[49m\u001b[43m,\u001b[49m\u001b[43m \u001b[49m\u001b[43mparam_grid\u001b[49m\u001b[38;5;241;43m=\u001b[39;49m\u001b[43mparameters\u001b[49m\u001b[43m,\u001b[49m\u001b[43m \u001b[49m\u001b[43mn_jobs\u001b[49m\u001b[38;5;241;43m=\u001b[39;49m\u001b[38;5;241;43m-\u001b[39;49m\u001b[38;5;241;43m1\u001b[39;49m\u001b[43m,\u001b[49m\u001b[43m \u001b[49m\u001b[43mcv\u001b[49m\u001b[38;5;241;43m=\u001b[39;49m\u001b[38;5;241;43m5\u001b[39;49m\u001b[43m,\u001b[49m\u001b[43m \u001b[49m\u001b[43mrefit\u001b[49m\u001b[38;5;241;43m=\u001b[39;49m\u001b[38;5;28;43;01mTrue\u001b[39;49;00m\u001b[43m,\u001b[49m\u001b[43m \u001b[49m\u001b[43mscoring\u001b[49m\u001b[38;5;241;43m=\u001b[39;49m\u001b[38;5;124;43m'\u001b[39;49m\u001b[38;5;124;43mbalanced_accuracy\u001b[39;49m\u001b[38;5;124;43m'\u001b[39;49m\u001b[43m,\u001b[49m\u001b[43m \u001b[49m\u001b[43mrandom_state\u001b[49m\u001b[38;5;241;43m=\u001b[39;49m\u001b[38;5;241;43m10\u001b[39;49m\u001b[43m)\u001b[49m\n\u001b[1;32m      3\u001b[0m forest\u001b[38;5;241m.\u001b[39mfit(df_x, df_y)\n\u001b[1;32m      4\u001b[0m forest\u001b[38;5;241m.\u001b[39mbest_score_\n",
      "File \u001b[0;32m/usr/local/lib/python3.9/site-packages/sklearn/utils/validation.py:63\u001b[0m, in \u001b[0;36m_deprecate_positional_args.<locals>._inner_deprecate_positional_args.<locals>.inner_f\u001b[0;34m(*args, **kwargs)\u001b[0m\n\u001b[1;32m     61\u001b[0m extra_args \u001b[38;5;241m=\u001b[39m \u001b[38;5;28mlen\u001b[39m(args) \u001b[38;5;241m-\u001b[39m \u001b[38;5;28mlen\u001b[39m(all_args)\n\u001b[1;32m     62\u001b[0m \u001b[38;5;28;01mif\u001b[39;00m extra_args \u001b[38;5;241m<\u001b[39m\u001b[38;5;241m=\u001b[39m \u001b[38;5;241m0\u001b[39m:\n\u001b[0;32m---> 63\u001b[0m     \u001b[38;5;28;01mreturn\u001b[39;00m \u001b[43mf\u001b[49m\u001b[43m(\u001b[49m\u001b[38;5;241;43m*\u001b[39;49m\u001b[43margs\u001b[49m\u001b[43m,\u001b[49m\u001b[43m \u001b[49m\u001b[38;5;241;43m*\u001b[39;49m\u001b[38;5;241;43m*\u001b[39;49m\u001b[43mkwargs\u001b[49m\u001b[43m)\u001b[49m\n\u001b[1;32m     65\u001b[0m \u001b[38;5;66;03m# extra_args > 0\u001b[39;00m\n\u001b[1;32m     66\u001b[0m args_msg \u001b[38;5;241m=\u001b[39m [\u001b[38;5;124m'\u001b[39m\u001b[38;5;132;01m{}\u001b[39;00m\u001b[38;5;124m=\u001b[39m\u001b[38;5;132;01m{}\u001b[39;00m\u001b[38;5;124m'\u001b[39m\u001b[38;5;241m.\u001b[39mformat(name, arg)\n\u001b[1;32m     67\u001b[0m             \u001b[38;5;28;01mfor\u001b[39;00m name, arg \u001b[38;5;129;01min\u001b[39;00m \u001b[38;5;28mzip\u001b[39m(kwonly_args[:extra_args],\n\u001b[1;32m     68\u001b[0m                                  args[\u001b[38;5;241m-\u001b[39mextra_args:])]\n",
      "\u001b[0;31mTypeError\u001b[0m: __init__() got an unexpected keyword argument 'random_state'"
     ]
    }
   ],
   "source": [
    "parameters = {'n_estimators':[200,250], 'max_depth':[20,25]}\n",
    "forest = GridSearchCV(estimator=RandomForestClassifier(), param_grid=parameters, n_jobs=-1, cv=5, refit=True, scoring='balanced_accuracy')\n",
    "forest.fit(df_x, df_y)\n",
    "forest.best_score_"
   ]
  },
  {
   "cell_type": "code",
   "execution_count": 53,
   "id": "3e254194",
   "metadata": {},
   "outputs": [
    {
     "data": {
      "text/plain": [
       "RandomForestClassifier(max_depth=25, n_estimators=250)"
      ]
     },
     "execution_count": 53,
     "metadata": {},
     "output_type": "execute_result"
    }
   ],
   "source": [
    "forest.best_estimator_"
   ]
  },
  {
   "cell_type": "markdown",
   "id": "28b85cea",
   "metadata": {},
   "source": [
    "## 5 - Metricas do modelo"
   ]
  },
  {
   "cell_type": "code",
   "execution_count": 55,
   "id": "22c8d96a",
   "metadata": {},
   "outputs": [],
   "source": [
    "models = []\n",
    "models.append(('RANDOM', RandomForestClassifier(max_depth=25, n_estimators=250)))"
   ]
  },
  {
   "cell_type": "code",
   "execution_count": 64,
   "id": "f8c7474e",
   "metadata": {},
   "outputs": [],
   "source": [
    "def run_experiments(X, y, models) -> pd.DataFrame:\n",
    "    \n",
    "    dfs = []\n",
    "    results = []\n",
    "    names = []\n",
    "    seed = 10\n",
    "    \n",
    "    # métricas de avaliação\n",
    "    scoring = ['accuracy', 'precision_weighted', 'recall_weighted', 'f1_weighted', 'roc_auc']\n",
    "    \n",
    "    # tipo de particionamento\n",
    "    kfold = model_selection.KFold(n_splits=5, shuffle=True, random_state=seed)\n",
    "    \n",
    "    # para cada modelo/algoritmo ...\n",
    "    for name, model in models:\n",
    "        cv_results = model_selection.cross_validate(model, X, y, cv=kfold, scoring=scoring)\n",
    "        results.append(cv_results)\n",
    "        names.append(name)\n",
    "        this_df = pd.DataFrame(cv_results)\n",
    "        this_df['model'] = name\n",
    "        dfs.append(this_df)\n",
    "    final = pd.concat(dfs, ignore_index=True)\n",
    "    return final"
   ]
  },
  {
   "cell_type": "code",
   "execution_count": 65,
   "id": "5f285410",
   "metadata": {},
   "outputs": [
    {
     "name": "stderr",
     "output_type": "stream",
     "text": [
      "/usr/local/lib/python3.9/site-packages/sklearn/metrics/_classification.py:1245: UndefinedMetricWarning: Precision is ill-defined and being set to 0.0 in labels with no predicted samples. Use `zero_division` parameter to control this behavior.\n",
      "  _warn_prf(average, modifier, msg_start, len(result))\n",
      "/usr/local/lib/python3.9/site-packages/sklearn/metrics/_classification.py:1245: UndefinedMetricWarning: Precision is ill-defined and being set to 0.0 in labels with no predicted samples. Use `zero_division` parameter to control this behavior.\n",
      "  _warn_prf(average, modifier, msg_start, len(result))\n"
     ]
    }
   ],
   "source": [
    "df_results = run_experiments(df_x, df_y, models)"
   ]
  },
  {
   "cell_type": "code",
   "execution_count": 66,
   "id": "22707ea5",
   "metadata": {},
   "outputs": [
    {
     "data": {
      "text/html": [
       "<div>\n",
       "<style scoped>\n",
       "    .dataframe tbody tr th:only-of-type {\n",
       "        vertical-align: middle;\n",
       "    }\n",
       "\n",
       "    .dataframe tbody tr th {\n",
       "        vertical-align: top;\n",
       "    }\n",
       "\n",
       "    .dataframe thead th {\n",
       "        text-align: right;\n",
       "    }\n",
       "</style>\n",
       "<table border=\"1\" class=\"dataframe\">\n",
       "  <thead>\n",
       "    <tr style=\"text-align: right;\">\n",
       "      <th></th>\n",
       "      <th>fit_time</th>\n",
       "      <th>score_time</th>\n",
       "      <th>test_accuracy</th>\n",
       "      <th>test_precision_weighted</th>\n",
       "      <th>test_recall_weighted</th>\n",
       "      <th>test_f1_weighted</th>\n",
       "      <th>test_roc_auc</th>\n",
       "      <th>model</th>\n",
       "    </tr>\n",
       "  </thead>\n",
       "  <tbody>\n",
       "    <tr>\n",
       "      <th>0</th>\n",
       "      <td>40.882703</td>\n",
       "      <td>3.197196</td>\n",
       "      <td>0.524048</td>\n",
       "      <td>0.710828</td>\n",
       "      <td>0.524048</td>\n",
       "      <td>0.571212</td>\n",
       "      <td>0.823979</td>\n",
       "      <td>RANDOM</td>\n",
       "    </tr>\n",
       "    <tr>\n",
       "      <th>1</th>\n",
       "      <td>40.495331</td>\n",
       "      <td>4.299722</td>\n",
       "      <td>0.522335</td>\n",
       "      <td>0.750488</td>\n",
       "      <td>0.522335</td>\n",
       "      <td>0.573750</td>\n",
       "      <td>0.827287</td>\n",
       "      <td>RANDOM</td>\n",
       "    </tr>\n",
       "    <tr>\n",
       "      <th>2</th>\n",
       "      <td>46.887406</td>\n",
       "      <td>3.724109</td>\n",
       "      <td>0.517396</td>\n",
       "      <td>0.722739</td>\n",
       "      <td>0.517396</td>\n",
       "      <td>0.568866</td>\n",
       "      <td>0.818509</td>\n",
       "      <td>RANDOM</td>\n",
       "    </tr>\n",
       "    <tr>\n",
       "      <th>3</th>\n",
       "      <td>42.595105</td>\n",
       "      <td>3.569669</td>\n",
       "      <td>0.524512</td>\n",
       "      <td>0.700070</td>\n",
       "      <td>0.524512</td>\n",
       "      <td>0.568370</td>\n",
       "      <td>0.821352</td>\n",
       "      <td>RANDOM</td>\n",
       "    </tr>\n",
       "    <tr>\n",
       "      <th>4</th>\n",
       "      <td>43.615878</td>\n",
       "      <td>3.730333</td>\n",
       "      <td>0.512388</td>\n",
       "      <td>0.706625</td>\n",
       "      <td>0.512388</td>\n",
       "      <td>0.558754</td>\n",
       "      <td>0.819729</td>\n",
       "      <td>RANDOM</td>\n",
       "    </tr>\n",
       "  </tbody>\n",
       "</table>\n",
       "</div>"
      ],
      "text/plain": [
       "    fit_time  score_time  test_accuracy  test_precision_weighted  \\\n",
       "0  40.882703    3.197196       0.524048                 0.710828   \n",
       "1  40.495331    4.299722       0.522335                 0.750488   \n",
       "2  46.887406    3.724109       0.517396                 0.722739   \n",
       "3  42.595105    3.569669       0.524512                 0.700070   \n",
       "4  43.615878    3.730333       0.512388                 0.706625   \n",
       "\n",
       "   test_recall_weighted  test_f1_weighted  test_roc_auc   model  \n",
       "0              0.524048          0.571212      0.823979  RANDOM  \n",
       "1              0.522335          0.573750      0.827287  RANDOM  \n",
       "2              0.517396          0.568866      0.818509  RANDOM  \n",
       "3              0.524512          0.568370      0.821352  RANDOM  \n",
       "4              0.512388          0.558754      0.819729  RANDOM  "
      ]
     },
     "execution_count": 66,
     "metadata": {},
     "output_type": "execute_result"
    }
   ],
   "source": [
    "df_results"
   ]
  },
  {
   "cell_type": "code",
   "execution_count": 67,
   "id": "95b4828a",
   "metadata": {},
   "outputs": [],
   "source": [
    "# RESULTADO POR MODELO\n",
    "\n",
    "resultados_por_modelo = []\n",
    "for model in list(set(df_results.model.values)):\n",
    "    model_df = df_results.loc[df_results.model == model]\n",
    "    resultados_por_modelo.append(model_df)\n",
    "\n",
    "# DATAFRAME DOS RESULTADOS\n",
    "\n",
    "df_final = pd.concat(resultados_por_modelo, ignore_index=True)\n",
    "\n",
    "# MÉTRICA DOS RESULTADOS\n",
    "\n",
    "results_long = pd.melt(df_final,id_vars=['model'],var_name='metrics', value_name='values')\n",
    "\n",
    "# RESULTADOS POR TEMPO E SCORE\n",
    "\n",
    "time_metrics = ['fit_time','score_time']\n",
    "\n",
    "  # CLASSIFICAÇÃO\n",
    "results_long_nofit = results_long.loc[~results_long['metrics'].isin(time_metrics)]\n",
    "results_long_nofit = results_long_nofit.sort_values(by='values')\n",
    "  # TEMPO\n",
    "results_long_fit = results_long.loc[results_long['metrics'].isin(time_metrics)]\n",
    "results_long_fit = results_long_fit.sort_values(by='values')\n"
   ]
  },
  {
   "cell_type": "code",
   "execution_count": 74,
   "id": "c0501de3",
   "metadata": {},
   "outputs": [
    {
     "data": {
      "text/plain": [
       "Text(0.5, 1.0, 'Comparando modelos para cada métrica de classificação')"
      ]
     },
     "execution_count": 74,
     "metadata": {},
     "output_type": "execute_result"
    },
    {
     "data": {
      "image/png": "[encoded data removed]",
      "text/plain": [
       "<Figure size 720x576 with 1 Axes>"
      ]
     },
     "metadata": {
      "needs_background": "light"
     },
     "output_type": "display_data"
    }
   ],
   "source": [
    "plt.figure(figsize=(10, 8))\n",
    "sns.set(font_scale=2)\n",
    "g = sns.boxplot(x=\"model\", y=\"values\", hue=\"metrics\", data=results_long_nofit, palette=\"Set2\")\n",
    "plt.legend(bbox_to_anchor=(1.05, 1), loc=2, borderaxespad=0.)\n",
    "plt.title('Comparando modelos para cada métrica de classificação')"
   ]
  },
  {
   "cell_type": "code",
   "execution_count": 75,
   "id": "1fb4d922",
   "metadata": {},
   "outputs": [
    {
     "data": {
      "text/plain": [
       "Text(0.5, 1.0, 'Comparação dos modelos para cada métrica de tempo')"
      ]
     },
     "execution_count": 75,
     "metadata": {},
     "output_type": "execute_result"
    },
    {
     "data": {
      "image/png": "[encoded data removed]",
      "text/plain": [
       "<Figure size 720x576 with 1 Axes>"
      ]
     },
     "metadata": {},
     "output_type": "display_data"
    }
   ],
   "source": [
    "plt.figure(figsize=(10, 8))\n",
    "sns.set(font_scale=2)\n",
    "g = sns.boxplot(x=\"model\", y=\"values\", hue=\"metrics\", data=results_long_fit, palette=\"Set2\")\n",
    "plt.legend(bbox_to_anchor=(1.05, 1), loc=2, borderaxespad=0.)\n",
    "plt.title('Comparação dos modelos para cada métrica de tempo')"
   ]
  },
  {
   "cell_type": "code",
   "execution_count": null,
   "id": "f8baa153",
   "metadata": {},
   "outputs": [],
   "source": []
  },
  {
   "cell_type": "code",
   "execution_count": null,
   "id": "ca7def80",
   "metadata": {},
   "outputs": [],
   "source": []
  },
  {
   "cell_type": "code",
   "execution_count": 77,
   "id": "88081b99",
   "metadata": {},
   "outputs": [
    {
     "ename": "KeyError",
     "evalue": "'TEST_PATH'",
     "output_type": "error",
     "traceback": [
      "\u001b[0;31m---------------------------------------------------------------------------\u001b[0m",
      "\u001b[0;31mKeyError\u001b[0m                                  Traceback (most recent call last)",
      "Input \u001b[0;32mIn [77]\u001b[0m, in \u001b[0;36m<module>\u001b[0;34m\u001b[0m\n\u001b[1;32m      1\u001b[0m \u001b[38;5;66;03m# Carga dos dados\u001b[39;00m\n\u001b[0;32m----> 3\u001b[0m test_products_csv \u001b[38;5;241m=\u001b[39m \u001b[43mos\u001b[49m\u001b[38;5;241;43m.\u001b[39;49m\u001b[43menviron\u001b[49m\u001b[43m[\u001b[49m\u001b[38;5;124;43m'\u001b[39;49m\u001b[38;5;124;43mTEST_PATH\u001b[39;49m\u001b[38;5;124;43m'\u001b[39;49m\u001b[43m]\u001b[49m\n\u001b[1;32m      4\u001b[0m df_test \u001b[38;5;241m=\u001b[39m pd\u001b[38;5;241m.\u001b[39mread_csv(test_products_csv)\n",
      "File \u001b[0;32m/usr/local/lib/python3.9/os.py:679\u001b[0m, in \u001b[0;36m_Environ.__getitem__\u001b[0;34m(self, key)\u001b[0m\n\u001b[1;32m    676\u001b[0m     value \u001b[38;5;241m=\u001b[39m \u001b[38;5;28mself\u001b[39m\u001b[38;5;241m.\u001b[39m_data[\u001b[38;5;28mself\u001b[39m\u001b[38;5;241m.\u001b[39mencodekey(key)]\n\u001b[1;32m    677\u001b[0m \u001b[38;5;28;01mexcept\u001b[39;00m \u001b[38;5;167;01mKeyError\u001b[39;00m:\n\u001b[1;32m    678\u001b[0m     \u001b[38;5;66;03m# raise KeyError with the original key value\u001b[39;00m\n\u001b[0;32m--> 679\u001b[0m     \u001b[38;5;28;01mraise\u001b[39;00m \u001b[38;5;167;01mKeyError\u001b[39;00m(key) \u001b[38;5;28;01mfrom\u001b[39;00m \u001b[38;5;28mNone\u001b[39m\n\u001b[1;32m    680\u001b[0m \u001b[38;5;28;01mreturn\u001b[39;00m \u001b[38;5;28mself\u001b[39m\u001b[38;5;241m.\u001b[39mdecodevalue(value)\n",
      "\u001b[0;31mKeyError\u001b[0m: 'TEST_PATH'"
     ]
    }
   ],
   "source": [
    "# Carga dos dados\n",
    "\n",
    "test_products_csv = os.environ['TEST_PATH']\n",
    "df_test = pd.read_csv(test_products_csv)"
   ]
  },
  {
   "cell_type": "code",
   "execution_count": null,
   "id": "4d3ee723",
   "metadata": {},
   "outputs": [],
   "source": []
  },
  {
   "cell_type": "code",
   "execution_count": null,
   "id": "50f514ff",
   "metadata": {},
   "outputs": [],
   "source": []
  }
 ],
 "metadata": {
  "kernelspec": {
   "display_name": "Python 3 (ipykernel)",
   "language": "python",
   "name": "python3"
  },
  "language_info": {
   "codemirror_mode": {
    "name": "ipython",
    "version": 3
   },
   "file_extension": ".py",
   "mimetype": "text/x-python",
   "name": "python",
   "nbconvert_exporter": "python",
   "pygments_lexer": "ipython3",
   "version": "3.9.1"
  }
 },
 "nbformat": 4,
 "nbformat_minor": 5
}
