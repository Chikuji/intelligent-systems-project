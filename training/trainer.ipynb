{
 "cells": [
  {
   "cell_type": "markdown",
   "metadata": {
    "id": "d5542daa"
   },
   "source": [
    "\n",
    "# Pipeline de Machine Larning - Model"
   ]
  },
  {
   "cell_type": "markdown",
   "metadata": {},
   "source": [
    "## Authors\n",
    "\n",
    "- Felipe Kenji Chikuji\n",
    "- Kattson Bastos Santos"
   ]
  },
  {
   "cell_type": "markdown",
   "metadata": {},
   "source": [
    "**Some Notes:**\n",
    "\n",
    "- We didn't run a lot of models because there's no much difference between their performance in this data.\n",
    "- The performance using only text columns was better than using a mix of text and the other variables. So, we decided to model the data only with the text columns, although using the others would be interesting in the construction of the pipeline in production (since we would have to add scaling, more missing values filtering, etc.)"
   ]
  },
  {
   "cell_type": "markdown",
   "metadata": {
    "id": "78a77c55"
   },
   "source": [
    "# 0. Importing"
   ]
  },
  {
   "cell_type": "code",
   "execution_count": 1,
   "metadata": {
    "id": "17a94e99"
   },
   "outputs": [],
   "source": [
    "import os\n",
    "import nltk\n",
    "import pickle \n",
    "\n",
    "import scipy as sp\n",
    "import pandas as pd\n",
    "import numpy as np\n",
    "import seaborn as sns\n",
    "import matplotlib.pyplot as plt\n",
    "\n",
    "from nltk.corpus                        import stopwords\n",
    "\n",
    "\n",
    "from sklearn.svm                        import SVC\n",
    "from sklearn.metrics                    import confusion_matrix, classification_report\n",
    "from sklearn.pipeline                   import Pipeline\n",
    "from sklearn.ensemble                   import RandomForestClassifier\n",
    "from sklearn.preprocessing              import LabelBinarizer, StandardScaler\n",
    "from sklearn.model_selection            import train_test_split, StratifiedKFold, cross_val_score\n",
    "from sklearn.feature_extraction.text    import CountVectorizer, TfidfTransformer\n"
   ]
  },
  {
   "cell_type": "markdown",
   "metadata": {},
   "source": [
    "## 0.1. Helper Functions"
   ]
  },
  {
   "cell_type": "markdown",
   "metadata": {},
   "source": [
    "In order to let the code be a little bit more clean and understandable, we decided to keep in the following cell some functions which will help us along the notebook."
   ]
  },
  {
   "cell_type": "code",
   "execution_count": 2,
   "metadata": {},
   "outputs": [],
   "source": [
    "def create_text_feature(data, stop_words_list):\n",
    "    \"\"\"\n",
    "    Receives dataframe, concatenate its text columns, and remove stopwords.\n",
    "    \n",
    "    :param data: a Pandas Dataframe.\n",
    "    :param stop_words_list: a list of stop words.\n",
    "    \n",
    "    :returns: a Pandas Series containing the concatenated string\"\"\"\n",
    "    \n",
    "    data = data.apply(lambda x: x['title'] + \" \" + x['query'] + \" \" + x['concatenated_tags'], axis =1)\n",
    "    \n",
    "    data = data.apply(lambda x: ' '.join([word for word in x.split() if word not in (stop_words_list)]))\n",
    "    \n",
    "    return data\n",
    "\n",
    "\n",
    "\n",
    "def create_fit_pipeline(X_data, y_data, model):\n",
    "    \"\"\"\n",
    "    Creates and fits a pipeline for a received set of features and target.\n",
    "    \n",
    "    :param X: a pandas Dataframe of features.\n",
    "    :param y: a a Pandas Series.\n",
    "    :param model: a scikit-learn instanciated model.\n",
    "    \n",
    "    :returns: a fitted pipeline \"\"\"\n",
    "    \n",
    "    pipeline = Pipeline([\n",
    "        (\"counter\", CountVectorizer()),\n",
    "\n",
    "        (\"tfidf\", TfidfTransformer()),\n",
    "\n",
    "        (\"clf\", model)\n",
    "\n",
    "      ])\n",
    "\n",
    "    pipeline.fit(X_data, y_data)\n",
    "    \n",
    "\n",
    "    return pipeline\n",
    "\n",
    "\n",
    "def load_pickle(file_pkl):\n",
    "    \"\"\"\n",
    "    Receives a path of a pickle file and loads it.\n",
    "    \n",
    "    :param file_pkl: str referencing a .pkl file.\n",
    "    \n",
    "    :returns: the loaded object\"\"\"\n",
    "    \n",
    "    with open(file_pkl,'rb') as open_file:\n",
    "\n",
    "        obj = pickle.load(open_file)\n",
    "        \n",
    "    return obj\n",
    "\n",
    "\n",
    "def save_pickle(obj, path_name):\n",
    "    \"\"\"\n",
    "    Receives and object and saves it in the received path.\n",
    "    \n",
    "    :param obj: any pickle serializable object.\n",
    "    :param path_name: str referencing the path where the object is going to be saved.\n",
    "    \n",
    "    \"\"\"\n",
    "    \n",
    "    with open(path_name, 'wb') as file:\n",
    "        \n",
    "        pickle.dump(obj, file)\n",
    "        \n",
    "        \n",
    "def plot_cm(y_true, y_hat, labels):\n",
    "    \"\"\"\n",
    "    Receives true and predicted data and plots a Confusion Matrix for them.\n",
    "    \n",
    "    :param y_true: Numpy Array of true labels.\n",
    "    :param y_hat: Numpy Array of predicted labels.\n",
    "    :param labels: label list to be used in the plot axis ticks.\n",
    "    \n",
    "    \"\"\"\n",
    "    \n",
    "    cm = confusion_matrix(y_true, y_hat)\n",
    "        \n",
    "    cm = cm.astype('float') / cm.sum(axis=1)[:, np.newaxis]\n",
    "\n",
    "    fig, ax = plt.subplots(figsize=(15, 7), nrows=1, ncols=1) \n",
    "\n",
    "    ax = sns.heatmap(\n",
    "                  cm, \n",
    "                  annot=True, \n",
    "                  fmt=\".2f\", \n",
    "                  cmap='Blues',\n",
    "                  ax=ax\n",
    "              )\n",
    "\n",
    "    plt.ylabel('Actual')\n",
    "    plt.xlabel('Predicted')\n",
    "    ax.set_title('Confusion Matrix')\n",
    "\n",
    "    ax.set_xticklabels(labels)\n",
    "    ax.set_yticklabels(labels)\n",
    "\n",
    "    b, t = plt.ylim() \n",
    "    b += 0.5 \n",
    "    t -= 0.5 \n",
    "\n",
    "    plt.yticks(rotation=0)\n",
    "\n",
    "    plt.ylim(b, t)\n",
    "\n",
    "    plt.show()\n",
    "    \n",
    "    "
   ]
  },
  {
   "cell_type": "markdown",
   "metadata": {},
   "source": [
    "## 0.2. Initializing some important variables"
   ]
  },
  {
   "cell_type": "code",
   "execution_count": 3,
   "metadata": {},
   "outputs": [
    {
     "name": "stderr",
     "output_type": "stream",
     "text": [
      "[nltk_data] Downloading package stopwords to\n",
      "[nltk_data]     /home/jedipadawan/nltk_data...\n",
      "[nltk_data]   Package stopwords is already up-to-date!\n"
     ]
    }
   ],
   "source": [
    "# path variables\n",
    "DATASET_PATH  = os.environ['DATASET_PATH']\n",
    "TEST_PATH     = os.environ['TEST_PATH']\n",
    "MODEL_PATH    = os.environ['MODEL_PATH']\n",
    "METRICS_PATH  = os.environ['METRICS_PATH']\n",
    "\n",
    "# downloading and creating a portuguese list fo stopwords\n",
    "nltk.download('stopwords')\n",
    "stop_words = set(stopwords.words('portuguese'))"
   ]
  },
  {
   "cell_type": "markdown",
   "metadata": {
    "id": "d6dcf002"
   },
   "source": [
    "# 1. Data Extraction"
   ]
  },
  {
   "cell_type": "code",
   "execution_count": 4,
   "metadata": {
    "id": "270e5b3f"
   },
   "outputs": [],
   "source": [
    "raw_data = pd.read_csv(DATASET_PATH)\n",
    "\n",
    "test_data = pd.read_csv(TEST_PATH)"
   ]
  },
  {
   "cell_type": "markdown",
   "metadata": {
    "id": "9087b33e"
   },
   "source": [
    "# 2. Data Formatting"
   ]
  },
  {
   "cell_type": "markdown",
   "metadata": {},
   "source": [
    "Let's copy the dataframe to make it easier to re-run the code without having to load the data again."
   ]
  },
  {
   "cell_type": "code",
   "execution_count": 5,
   "metadata": {},
   "outputs": [],
   "source": [
    "df = raw_data"
   ]
  },
  {
   "cell_type": "code",
   "execution_count": 6,
   "metadata": {},
   "outputs": [],
   "source": [
    "X = df.drop('category', axis =1)[['title', 'query', 'concatenated_tags']]\n",
    "\n",
    "y = df['category']"
   ]
  },
  {
   "cell_type": "markdown",
   "metadata": {},
   "source": [
    "## 2.1. Filling Missing Values"
   ]
  },
  {
   "cell_type": "markdown",
   "metadata": {},
   "source": [
    "Since we're just going to use text columns as features, we'll fill missing values only for them."
   ]
  },
  {
   "cell_type": "code",
   "execution_count": 7,
   "metadata": {},
   "outputs": [
    {
     "data": {
      "text/plain": [
       "title                0\n",
       "query                0\n",
       "concatenated_tags    2\n",
       "dtype: int64"
      ]
     },
     "execution_count": 7,
     "metadata": {},
     "output_type": "execute_result"
    }
   ],
   "source": [
    "X.isna().sum()"
   ]
  },
  {
   "cell_type": "markdown",
   "metadata": {},
   "source": [
    "Even though there's no missing values in `title` and `query` columns (as shown in the output above), we'll keep filling them with an empty string for future deploy purposes."
   ]
  },
  {
   "cell_type": "code",
   "execution_count": 8,
   "metadata": {},
   "outputs": [],
   "source": [
    "X['concatenated_tags'] = X.concatenated_tags.fillna('')\n",
    "\n",
    "X['title'] = X.concatenated_tags.fillna('')\n",
    "\n",
    "X['query'] = X.concatenated_tags.fillna('')"
   ]
  },
  {
   "cell_type": "markdown",
   "metadata": {},
   "source": [
    "## 2.2. Using text Columns to create the feature"
   ]
  },
  {
   "cell_type": "code",
   "execution_count": 9,
   "metadata": {},
   "outputs": [],
   "source": [
    "X = create_text_feature(X, stop_words)"
   ]
  },
  {
   "cell_type": "markdown",
   "metadata": {},
   "source": [
    "## 2.3. Running the entire data preparation for the test dataset"
   ]
  },
  {
   "cell_type": "code",
   "execution_count": 10,
   "metadata": {},
   "outputs": [],
   "source": [
    "X_test = test_data.drop('category', axis =1)[['title', 'query', 'concatenated_tags']]\n",
    "\n",
    "y_test = test_data['category']"
   ]
  },
  {
   "cell_type": "code",
   "execution_count": 11,
   "metadata": {},
   "outputs": [],
   "source": [
    "X_test['concatenated_tags'] = X_test.concatenated_tags.fillna('')\n",
    "\n",
    "X_test['title'] = X_test.concatenated_tags.fillna('')\n",
    "\n",
    "X_test['query'] = X_test.concatenated_tags.fillna('')"
   ]
  },
  {
   "cell_type": "code",
   "execution_count": 12,
   "metadata": {},
   "outputs": [],
   "source": [
    "X_test = create_text_feature(X_test, stop_words)"
   ]
  },
  {
   "cell_type": "code",
   "execution_count": 13,
   "metadata": {},
   "outputs": [
    {
     "name": "stdout",
     "output_type": "stream",
     "text": [
      "-- Y test unique values count --\n",
      "[['Bebê' 95]\n",
      " ['Bijuterias e Jóias' 11]\n",
      " ['Decoração' 122]\n",
      " ['Lembrancinhas' 230]\n",
      " ['Outros' 15]\n",
      " ['Papel e Cia' 27]] \n",
      "\n"
     ]
    }
   ],
   "source": [
    "(unique, counts) = np.unique(y_test, return_counts=True)\n",
    "frequencies_y_test = np.asarray((unique, counts)).T\n",
    "\n",
    "print(\"-- Y test unique values count --\")\n",
    "print(frequencies_y_test, '\\n')"
   ]
  },
  {
   "cell_type": "markdown",
   "metadata": {
    "id": "1e5fcba0"
   },
   "source": [
    "# 3. Modelling"
   ]
  },
  {
   "cell_type": "markdown",
   "metadata": {},
   "source": [
    "Based on previous experiments, the use of different models gave us similar results.\n",
    "\n",
    "So, in order to gain some time, we'll fit only a Support Vector Machine Classifier, since it showed a slightly better result.\n",
    "\n",
    "However, in a real scenario, we would have to better chose the model to fit our data.\n",
    "\n",
    "Since we need to find the best parameters, we'll perform a simple parameters tuning.\n",
    "Again, in a real scenario, we should better perform this task.\n",
    "\n",
    "The 'parameters tuning' usually goes after chosing the model and evaluating on the validation data. However, we decided to run it first because we already have a chosen model."
   ]
  },
  {
   "cell_type": "markdown",
   "metadata": {},
   "source": [
    "## 3.1. Finding Parameters"
   ]
  },
  {
   "cell_type": "markdown",
   "metadata": {},
   "source": [
    "To save some time, we'll try to find the best parameters only for `C` and the `kernel`. That's because there's no much different in the model performance when changing other parameters.\n",
    "\n",
    "_Note_: in order to let the notebook be more clean, we'll print all the metrics together at the end of this notebook.\n",
    "\n",
    "**Results**:\n",
    "\n",
    "- `C` = 10\n",
    "- `kernel`= rbf"
   ]
  },
  {
   "cell_type": "code",
   "execution_count": 14,
   "metadata": {},
   "outputs": [],
   "source": [
    "X_train, X_valid, y_train, y_valid = train_test_split(X, y, test_size=0.3, stratify=y, random_state=42)"
   ]
  },
  {
   "cell_type": "code",
   "execution_count": 15,
   "metadata": {},
   "outputs": [
    {
     "name": "stdout",
     "output_type": "stream",
     "text": [
      "Executing for params: c 1 e kernel linear\n",
      "Executing for params: c 1 e kernel rbf\n",
      "Executing for params: c 10 e kernel linear\n",
      "Executing for params: c 10 e kernel rbf\n",
      "CPU times: user 7min 2s, sys: 1.06 s, total: 7min 3s\n",
      "Wall time: 7min 4s\n"
     ]
    }
   ],
   "source": [
    "%%time\n",
    "\n",
    "param_grid = {'C':[1,10], 'kernel':['linear','rbf']}\n",
    "\n",
    "with open(METRICS_PATH, \"a\") as metrics_file:\n",
    "\n",
    "    print(f\"-- FINE TUNING RESULTS --\", file=metrics_file)\n",
    "    \n",
    "for c in param_grid['C']:\n",
    "    \n",
    "    for k in param_grid['kernel']:\n",
    "        \n",
    "        print(f'Executing for params: c {c} and kernel {k}')\n",
    "        \n",
    "        svc_model = SVC(C=c, kernel=k, random_state=42)\n",
    "        \n",
    "        svc_pipeline = create_fit_pipeline(X_train, y_train, svc_model)\n",
    "        \n",
    "        svc_predictions = svc_pipeline.predict(X_valid)\n",
    "        \n",
    "        svc_report = classification_report(y_valid, svc_predictions)\n",
    "\n",
    "        with open(METRICS_PATH, \"a\") as metrics_file:\n",
    "\n",
    "            print(f\"Support Vector Classifier - Fine Tuning for C {c} and kernel {k}\", file=metrics_file)\n",
    "\n",
    "            print(svc_report + '\\n\\n', file=metrics_file)\n"
   ]
  },
  {
   "cell_type": "markdown",
   "metadata": {},
   "source": [
    "## 3.2. Fitting the best model"
   ]
  },
  {
   "cell_type": "markdown",
   "metadata": {
    "id": "94304fca"
   },
   "source": [
    "# 4. Model Validation\n",
    "\n",
    "**About the metrics**\n",
    "\n",
    "We choose to use a set of metrics in order to better approach our problem, since we have a different quantity of observations for each class.\n",
    "\n",
    "- `accuracy`: basically, it is the number of correct predictions made by the model over all predictions made. Accuracy is usually used for balanced data, which is not our case. However, it's still usefull when combined with the following metrics.\n",
    "- `recall`: the proportion of a specific class that was correctly predicted as being of that specific class.\n",
    "- `precision`: proportion of a class that was predicted of being from that class that was actually from that class.\n",
    "- `f1-score`: takes the harmonic mean between the precision and recall, reaching its best value at 1, and worst at 0. We decided to use it because it gives us a summary between recall and precision and we can better verify the performance of our model.\n",
    "- `confusion matrix`: it helps us better look at the correctness and accuracy of the model. Also, we can plot it in a way that shows the recall of precision for each class."
   ]
  },
  {
   "cell_type": "markdown",
   "metadata": {},
   "source": [
    "Before evaluating the models, let's create a list containing the target labels to be used in the confusion matrix plot."
   ]
  },
  {
   "cell_type": "code",
   "execution_count": 16,
   "metadata": {},
   "outputs": [],
   "source": [
    "target_labels = df['category'].sort_values().unique()"
   ]
  },
  {
   "cell_type": "markdown",
   "metadata": {},
   "source": [
    "## 4.1. Cross Validation Evaluation"
   ]
  },
  {
   "cell_type": "markdown",
   "metadata": {},
   "source": [
    "To get a more robust model performance, we'll apply a stratified cross validations, since it allows us to see the metrics along different portions of the training dataset.\n",
    "\n",
    "To gain some time, we'll divide it only in four splits."
   ]
  },
  {
   "cell_type": "code",
   "execution_count": 17,
   "metadata": {},
   "outputs": [],
   "source": [
    "skf = StratifiedKFold(n_splits=4, shuffle=True, random_state=42)"
   ]
  },
  {
   "cell_type": "code",
   "execution_count": 18,
   "metadata": {},
   "outputs": [
    {
     "name": "stdout",
     "output_type": "stream",
     "text": [
      "Starting fold 1\n",
      "Support Vector Classifier - Cross Validation Metrics for fold 1\n",
      "                    precision    recall  f1-score   support\n",
      "\n",
      "              Bebê       0.90      0.85      0.87      1732\n",
      "Bijuterias e Jóias       0.95      0.91      0.93       235\n",
      "         Decoração       0.89      0.87      0.88      2181\n",
      "     Lembrancinhas       0.88      0.95      0.91      4381\n",
      "            Outros       0.89      0.72      0.79       283\n",
      "       Papel e Cia       0.83      0.68      0.75       688\n",
      "\n",
      "          accuracy                           0.88      9500\n",
      "         macro avg       0.89      0.83      0.86      9500\n",
      "      weighted avg       0.88      0.88      0.88      9500\n",
      "\n",
      "Starting fold 2\n",
      "Support Vector Classifier - Cross Validation Metrics for fold 2\n",
      "                    precision    recall  f1-score   support\n",
      "\n",
      "              Bebê       0.88      0.86      0.87      1732\n",
      "Bijuterias e Jóias       0.95      0.89      0.92       235\n",
      "         Decoração       0.88      0.88      0.88      2181\n",
      "     Lembrancinhas       0.88      0.94      0.91      4381\n",
      "            Outros       0.86      0.57      0.68       284\n",
      "       Papel e Cia       0.88      0.68      0.77       687\n",
      "\n",
      "          accuracy                           0.88      9500\n",
      "         macro avg       0.89      0.80      0.84      9500\n",
      "      weighted avg       0.88      0.88      0.88      9500\n",
      "\n",
      "Starting fold 3\n",
      "Support Vector Classifier - Cross Validation Metrics for fold 3\n",
      "                    precision    recall  f1-score   support\n",
      "\n",
      "              Bebê       0.90      0.85      0.87      1733\n",
      "Bijuterias e Jóias       0.94      0.85      0.89       235\n",
      "         Decoração       0.87      0.88      0.87      2181\n",
      "     Lembrancinhas       0.88      0.94      0.91      4381\n",
      "            Outros       0.84      0.65      0.74       283\n",
      "       Papel e Cia       0.83      0.69      0.75       687\n",
      "\n",
      "          accuracy                           0.88      9500\n",
      "         macro avg       0.88      0.81      0.84      9500\n",
      "      weighted avg       0.88      0.88      0.88      9500\n",
      "\n",
      "Starting fold 4\n",
      "Support Vector Classifier - Cross Validation Metrics for fold 4\n",
      "                    precision    recall  f1-score   support\n",
      "\n",
      "              Bebê       0.91      0.86      0.88      1733\n",
      "Bijuterias e Jóias       0.93      0.87      0.90       235\n",
      "         Decoração       0.89      0.88      0.88      2180\n",
      "     Lembrancinhas       0.88      0.94      0.91      4381\n",
      "            Outros       0.85      0.68      0.76       283\n",
      "       Papel e Cia       0.82      0.70      0.76       688\n",
      "\n",
      "          accuracy                           0.88      9500\n",
      "         macro avg       0.88      0.82      0.85      9500\n",
      "      weighted avg       0.88      0.88      0.88      9500\n",
      "\n"
     ]
    }
   ],
   "source": [
    "fold = 1\n",
    "\n",
    "with open(METRICS_PATH, \"a\") as metrics_file:\n",
    "    \n",
    "        print(f\"CROSS VALIDATION RESULTS\", file=metrics_file)\n",
    "\n",
    "for train_index, test_index in skf.split(X, y):\n",
    "    print(f'Starting fold {fold}')\n",
    "    \n",
    "    X_train = X.iloc[train_index,]\n",
    "    y_train = y.iloc[train_index,]\n",
    "    \n",
    "    X_valid = X.iloc[test_index,]\n",
    "    y_valid = y.iloc[test_index,]\n",
    "    \n",
    "       \n",
    "    svc_model = SVC(C=10, kernel='rbf', random_state=42)\n",
    "    \n",
    "    model = create_fit_pipeline(X_train, y_train, svc_model)\n",
    "    \n",
    "    svc_predictions = model.predict(X_valid)\n",
    "    \n",
    "    svc_report = classification_report(y_valid, svc_predictions)\n",
    "    \n",
    "    with open(METRICS_PATH, \"a\") as metrics_file:\n",
    "    \n",
    "        print(f\"Support Vector Classifier - Cross Validation Metrics for fold {fold}\", file=metrics_file)\n",
    "\n",
    "        print(svc_report + '\\n\\n', file=metrics_file)\n",
    "    \n",
    "\n",
    "    print(f\"Support Vector Classifier - Cross Validation Metrics for fold {fold}\")\n",
    "\n",
    "    print(svc_report)\n",
    "    \n",
    "    fold += 1\n",
    "    "
   ]
  },
  {
   "cell_type": "markdown",
   "metadata": {},
   "source": [
    "## 4.2. Evaluating On the Test Data"
   ]
  },
  {
   "cell_type": "code",
   "execution_count": 19,
   "metadata": {},
   "outputs": [],
   "source": [
    "svc_model = SVC(C=10, kernel='rbf', random_state=42)\n",
    "\n",
    "svc_pipeline = create_fit_pipeline(X, y, svc_model)"
   ]
  },
  {
   "cell_type": "code",
   "execution_count": 20,
   "metadata": {},
   "outputs": [],
   "source": [
    "svc_predictions = svc_pipeline.predict(X_test)"
   ]
  },
  {
   "cell_type": "code",
   "execution_count": 21,
   "metadata": {},
   "outputs": [],
   "source": [
    "svc_report = classification_report(y_test, svc_predictions)\n",
    "\n",
    "with open(METRICS_PATH, \"a\") as metrics_file:\n",
    "    \n",
    "    print(\"Support Vector Classifier - Test Metrics\", file=metrics_file)\n",
    "    \n",
    "    print(svc_report + '\\n\\n', file=metrics_file)"
   ]
  },
  {
   "cell_type": "code",
   "execution_count": 22,
   "metadata": {},
   "outputs": [
    {
     "data": {
      "image/png": "[encoded data removed]",
      "text/plain": [
       "<Figure size 1080x504 with 2 Axes>"
      ]
     },
     "metadata": {
      "needs_background": "light"
     },
     "output_type": "display_data"
    }
   ],
   "source": [
    "plot_cm(y_test.values, svc_predictions, target_labels)"
   ]
  },
  {
   "cell_type": "markdown",
   "metadata": {
    "id": "7b7bced7"
   },
   "source": [
    "# 5. Model exportation"
   ]
  },
  {
   "cell_type": "code",
   "execution_count": 23,
   "metadata": {
    "id": "47b522b7"
   },
   "outputs": [],
   "source": [
    "save_pickle(svc_pipeline, MODEL_PATH)"
   ]
  },
  {
   "cell_type": "markdown",
   "metadata": {},
   "source": [
    "# Printing the metrics"
   ]
  },
  {
   "cell_type": "code",
   "execution_count": 24,
   "metadata": {},
   "outputs": [
    {
     "name": "stdout",
     "output_type": "stream",
     "text": [
      "-- FINE TUNING RESULTS --\r\n",
      "Support Vector Classifier - Fine Tuning for C 1 and kernel linear\r\n",
      "                    precision    recall  f1-score   support\r\n",
      "\r\n",
      "              Bebê       0.87      0.79      0.83      2079\r\n",
      "Bijuterias e Jóias       0.93      0.86      0.90       282\r\n",
      "         Decoração       0.87      0.84      0.86      2617\r\n",
      "     Lembrancinhas       0.84      0.94      0.88      5257\r\n",
      "            Outros       0.82      0.56      0.67       340\r\n",
      "       Papel e Cia       0.83      0.58      0.68       825\r\n",
      "\r\n",
      "          accuracy                           0.85     11400\r\n",
      "         macro avg       0.86      0.76      0.80     11400\r\n",
      "      weighted avg       0.85      0.85      0.85     11400\r\n",
      "\r\n",
      "\r\n",
      "\r\n",
      "Support Vector Classifier - Fine Tuning for C 1 and kernel rbf\r\n",
      "                    precision    recall  f1-score   support\r\n",
      "\r\n",
      "              Bebê       0.91      0.82      0.86      2079\r\n",
      "Bijuterias e Jóias       0.95      0.82      0.88       282\r\n",
      "         Decoração       0.87      0.87      0.87      2617\r\n",
      "     Lembrancinhas       0.85      0.96      0.90      5257\r\n",
      "            Outros       0.88      0.56      0.68       340\r\n",
      "       Papel e Cia       0.88      0.61      0.72       825\r\n",
      "\r\n",
      "          accuracy                           0.87     11400\r\n",
      "         macro avg       0.89      0.77      0.82     11400\r\n",
      "      weighted avg       0.87      0.87      0.87     11400\r\n",
      "\r\n",
      "\r\n",
      "\r\n",
      "Support Vector Classifier - Fine Tuning for C 10 and kernel linear\r\n",
      "                    precision    recall  f1-score   support\r\n",
      "\r\n",
      "              Bebê       0.84      0.81      0.83      2079\r\n",
      "Bijuterias e Jóias       0.91      0.88      0.89       282\r\n",
      "         Decoração       0.86      0.84      0.85      2617\r\n",
      "     Lembrancinhas       0.85      0.92      0.89      5257\r\n",
      "            Outros       0.78      0.59      0.67       340\r\n",
      "       Papel e Cia       0.80      0.62      0.70       825\r\n",
      "\r\n",
      "          accuracy                           0.85     11400\r\n",
      "         macro avg       0.84      0.78      0.80     11400\r\n",
      "      weighted avg       0.85      0.85      0.85     11400\r\n",
      "\r\n",
      "\r\n",
      "\r\n",
      "Support Vector Classifier - Fine Tuning for C 10 and kernel rbf\r\n",
      "                    precision    recall  f1-score   support\r\n",
      "\r\n",
      "              Bebê       0.90      0.85      0.87      2079\r\n",
      "Bijuterias e Jóias       0.94      0.86      0.90       282\r\n",
      "         Decoração       0.87      0.87      0.87      2617\r\n",
      "     Lembrancinhas       0.88      0.94      0.91      5257\r\n",
      "            Outros       0.81      0.61      0.70       340\r\n",
      "       Papel e Cia       0.84      0.68      0.75       825\r\n",
      "\r\n",
      "          accuracy                           0.88     11400\r\n",
      "         macro avg       0.87      0.80      0.83     11400\r\n",
      "      weighted avg       0.88      0.88      0.88     11400\r\n",
      "\r\n",
      "\r\n",
      "\r\n",
      "CROSS VALIDATION RESULTS\r\n",
      "Support Vector Classifier - Cross Validation Metrics for fold 1\r\n",
      "                    precision    recall  f1-score   support\r\n",
      "\r\n",
      "              Bebê       0.90      0.85      0.87      1732\r\n",
      "Bijuterias e Jóias       0.95      0.91      0.93       235\r\n",
      "         Decoração       0.89      0.87      0.88      2181\r\n",
      "     Lembrancinhas       0.88      0.95      0.91      4381\r\n",
      "            Outros       0.89      0.72      0.79       283\r\n",
      "       Papel e Cia       0.83      0.68      0.75       688\r\n",
      "\r\n",
      "          accuracy                           0.88      9500\r\n",
      "         macro avg       0.89      0.83      0.86      9500\r\n",
      "      weighted avg       0.88      0.88      0.88      9500\r\n",
      "\r\n",
      "\r\n",
      "\r\n",
      "Support Vector Classifier - Cross Validation Metrics for fold 2\r\n",
      "                    precision    recall  f1-score   support\r\n",
      "\r\n",
      "              Bebê       0.88      0.86      0.87      1732\r\n",
      "Bijuterias e Jóias       0.95      0.89      0.92       235\r\n",
      "         Decoração       0.88      0.88      0.88      2181\r\n",
      "     Lembrancinhas       0.88      0.94      0.91      4381\r\n",
      "            Outros       0.86      0.57      0.68       284\r\n",
      "       Papel e Cia       0.88      0.68      0.77       687\r\n",
      "\r\n",
      "          accuracy                           0.88      9500\r\n",
      "         macro avg       0.89      0.80      0.84      9500\r\n",
      "      weighted avg       0.88      0.88      0.88      9500\r\n",
      "\r\n",
      "\r\n",
      "\r\n",
      "Support Vector Classifier - Cross Validation Metrics for fold 3\r\n",
      "                    precision    recall  f1-score   support\r\n",
      "\r\n",
      "              Bebê       0.90      0.85      0.87      1733\r\n",
      "Bijuterias e Jóias       0.94      0.85      0.89       235\r\n",
      "         Decoração       0.87      0.88      0.87      2181\r\n",
      "     Lembrancinhas       0.88      0.94      0.91      4381\r\n",
      "            Outros       0.84      0.65      0.74       283\r\n",
      "       Papel e Cia       0.83      0.69      0.75       687\r\n",
      "\r\n",
      "          accuracy                           0.88      9500\r\n",
      "         macro avg       0.88      0.81      0.84      9500\r\n",
      "      weighted avg       0.88      0.88      0.88      9500\r\n",
      "\r\n",
      "\r\n",
      "\r\n",
      "Support Vector Classifier - Cross Validation Metrics for fold 4\r\n",
      "                    precision    recall  f1-score   support\r\n",
      "\r\n",
      "              Bebê       0.91      0.86      0.88      1733\r\n",
      "Bijuterias e Jóias       0.93      0.87      0.90       235\r\n",
      "         Decoração       0.89      0.88      0.88      2180\r\n",
      "     Lembrancinhas       0.88      0.94      0.91      4381\r\n",
      "            Outros       0.85      0.68      0.76       283\r\n",
      "       Papel e Cia       0.82      0.70      0.76       688\r\n",
      "\r\n",
      "          accuracy                           0.88      9500\r\n",
      "         macro avg       0.88      0.82      0.85      9500\r\n",
      "      weighted avg       0.88      0.88      0.88      9500\r\n",
      "\r\n",
      "\r\n",
      "\r\n",
      "Support Vector Classifier - Test Metrics\r\n",
      "                    precision    recall  f1-score   support\r\n",
      "\r\n",
      "              Bebê       0.95      0.86      0.91        95\r\n",
      "Bijuterias e Jóias       1.00      0.82      0.90        11\r\n",
      "         Decoração       0.92      0.93      0.92       122\r\n",
      "     Lembrancinhas       0.89      0.96      0.92       230\r\n",
      "            Outros       0.86      0.80      0.83        15\r\n",
      "       Papel e Cia       0.91      0.74      0.82        27\r\n",
      "\r\n",
      "          accuracy                           0.91       500\r\n",
      "         macro avg       0.92      0.85      0.88       500\r\n",
      "      weighted avg       0.91      0.91      0.91       500\r\n",
      "\r\n",
      "\r\n",
      "\r\n"
     ]
    }
   ],
   "source": [
    "!cat {METRICS_PATH}"
   ]
  },
  {
   "cell_type": "code",
   "execution_count": null,
   "metadata": {},
   "outputs": [],
   "source": []
  }
 ],
 "metadata": {
  "colab": {
   "name": "trainer.ipynb",
   "provenance": []
  },
  "kernelspec": {
   "display_name": "Python 3",
   "language": "python",
   "name": "python3"
  },
  "language_info": {
   "codemirror_mode": {
    "name": "ipython",
    "version": 3
   },
   "file_extension": ".py",
   "mimetype": "text/x-python",
   "name": "python",
   "nbconvert_exporter": "python",
   "pygments_lexer": "ipython3",
   "version": "3.7.6"
  }
 },
 "nbformat": 4,
 "nbformat_minor": 5
}
