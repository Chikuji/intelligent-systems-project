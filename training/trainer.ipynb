{
 "cells": [
  {
   "cell_type": "markdown",
   "id": "e949e725",
   "metadata": {
    "id": "d5542daa"
   },
   "source": [
    "\n",
    "# Pipeline de Machine Larning - Model"
   ]
  },
  {
   "cell_type": "markdown",
   "id": "8c22f9d5",
   "metadata": {},
   "source": [
    "**Some Notes:**\n",
    "\n",
    "- Since there's no much difference when running or not a fine tuning for the simple models we chose, we decided to not run it since it would bring us a lot more time of processing (specially for the SVM we used).\n",
    "- Also, we didn't run a lot of models because there's no much difference between their performance in this data.\n",
    "- Lastly, the performance using only text columns was better than using a mix of text and the other variables. So, we decided to model the data only with the text columns, although using the others would be interesting in the construction of the pipeline in production (since we would have to add scaling, more missing values filtering, etc.)"
   ]
  },
  {
   "cell_type": "markdown",
   "id": "5fb405fd",
   "metadata": {
    "id": "78a77c55"
   },
   "source": [
    "# 0. Importing"
   ]
  },
  {
   "cell_type": "code",
   "execution_count": 1,
   "id": "5b69938e",
   "metadata": {
    "id": "17a94e99"
   },
   "outputs": [],
   "source": [
    "import os\n",
    "import nltk\n",
    "import pickle \n",
    "\n",
    "import scipy as sp\n",
    "import pandas as pd\n",
    "import numpy as np\n",
    "import seaborn as sns\n",
    "import matplotlib.pyplot as plt\n",
    "\n",
    "from nltk.corpus                        import stopwords\n",
    "\n",
    "\n",
    "from sklearn                            import model_selection\n",
    "from sklearn.svm                        import SVC\n",
    "from sklearn.metrics                    import confusion_matrix, classification_report\n",
    "from sklearn.pipeline                   import Pipeline\n",
    "from sklearn.ensemble                   import RandomForestClassifier\n",
    "from sklearn.preprocessing              import LabelBinarizer, StandardScaler\n",
    "from sklearn.model_selection            import GridSearchCV, train_test_split\n",
    "from sklearn.feature_extraction.text    import CountVectorizer, TfidfTransformer\n"
   ]
  },
  {
   "cell_type": "markdown",
   "id": "e2fe4ba3",
   "metadata": {},
   "source": [
    "## 0.1. Helper Functions"
   ]
  },
  {
   "cell_type": "markdown",
   "id": "83f2a4d7",
   "metadata": {},
   "source": [
    "In order to let the code be a little bit more clean and understandable, we decided to keep in the following cell some functions which will help us along the notebook."
   ]
  },
  {
   "cell_type": "code",
   "execution_count": 2,
   "id": "5880e2d2",
   "metadata": {},
   "outputs": [],
   "source": [
    "def create_text_feature(data, stop_words_list):\n",
    "    \"\"\"\n",
    "    Receives dataframe, concatenate its text columns, and remove stopwords.\n",
    "    \n",
    "    :param data: a Pandas Dataframe.\n",
    "    :param stop_words_list: a list of stop words.\n",
    "    \n",
    "    :returns: a Pandas Series containing the concatenated string\"\"\"\n",
    "    \n",
    "    data = data.apply(lambda x: x['title'] + \" \" + x['query'] + \" \" + x['concatenated_tags'], axis =1)\n",
    "    \n",
    "    data = data.apply(lambda x: ' '.join([word for word in x.split() if word not in (stop_words_list)]))\n",
    "    \n",
    "    return data\n",
    "\n",
    "\n",
    "\n",
    "def create_fit_pipeline(X, y, model):\n",
    "    \"\"\"\n",
    "    Creates and fits a pipeline for a received set of features and target.\n",
    "    \n",
    "    :param X: a pandas Dataframe of features.\n",
    "    :param y: a a Pandas Series.\n",
    "    :param model: a scikit-learn instanciated model.\n",
    "    \n",
    "    :returns: a fitted pipeline \"\"\"\n",
    "    \n",
    "    pipeline = Pipeline([\n",
    "        (\"counter\", CountVectorizer()),\n",
    "\n",
    "        (\"tfidf\", TfidfTransformer()),\n",
    "\n",
    "        (\"clf\", model)\n",
    "\n",
    "      ])\n",
    "\n",
    "    pipeline.fit(X, y)\n",
    "    \n",
    "\n",
    "    return pipeline\n",
    "\n",
    "\n",
    "def load_pickle(file_pkl):\n",
    "    \"\"\"\n",
    "    Receives a path of a pickle file and loads it.\n",
    "    \n",
    "    :param file_pkl: str referencing a .pkl file.\n",
    "    \n",
    "    :returns: the loaded object\"\"\"\n",
    "    \n",
    "    with open(file_pkl,'rb') as open_file:\n",
    "\n",
    "        obj = pickle.load(open_file)\n",
    "        \n",
    "    return obj\n",
    "\n",
    "\n",
    "def save_pickle(obj, path_name):\n",
    "    \"\"\"\n",
    "    Receives and object and saves it in the received path.\n",
    "    \n",
    "    :param obj: any pickle serializable object.\n",
    "    :param path_name: str referencing the path where the object is going to be saved.\n",
    "    \n",
    "    \"\"\"\n",
    "    \n",
    "    with open(path_name, 'wb') as file:\n",
    "        \n",
    "        pickle.dump(obj, file)\n",
    "        \n",
    "        \n",
    "def plot_cm(y_true, y_hat, labels):\n",
    "    \"\"\"\n",
    "    Receives true and predicted data and plots a Confusion Matrix for them.\n",
    "    \n",
    "    :param y_true: Numpy Array of true labels.\n",
    "    :param y_hat: Numpy Array of predicted labels.\n",
    "    :param labels: label list to be used in the plot axis ticks.\n",
    "    \n",
    "    \"\"\"\n",
    "    \n",
    "    cm = confusion_matrix(y_true, y_hat)\n",
    "        \n",
    "    cm = cm.astype('float') / cm.sum(axis=1)[:, np.newaxis]\n",
    "\n",
    "    fig, ax = plt.subplots(figsize=(15, 7), nrows=1, ncols=1) \n",
    "\n",
    "    ax = sns.heatmap(\n",
    "                  cm, \n",
    "                  annot=True, \n",
    "                  fmt=\".2f\", \n",
    "                  cmap='Blues',\n",
    "                  ax=ax\n",
    "              )\n",
    "\n",
    "    plt.ylabel('Actual')\n",
    "    plt.xlabel('Predicted')\n",
    "    ax.set_title('Confusion Matrix')\n",
    "\n",
    "    ax.set_xticklabels(labels)\n",
    "    ax.set_yticklabels(labels)\n",
    "\n",
    "    b, t = plt.ylim() \n",
    "    b += 0.5 \n",
    "    t -= 0.5 \n",
    "\n",
    "    plt.yticks(rotation=0)\n",
    "\n",
    "    plt.ylim(b, t)\n",
    "\n",
    "    plt.show()\n",
    "    \n",
    "    "
   ]
  },
  {
   "cell_type": "markdown",
   "id": "c6a5b167",
   "metadata": {},
   "source": [
    "## 0.2. Initializing some important variables"
   ]
  },
  {
   "cell_type": "code",
   "execution_count": 3,
   "id": "40d206c8",
   "metadata": {},
   "outputs": [
    {
     "name": "stderr",
     "output_type": "stream",
     "text": [
      "[nltk_data] Downloading package stopwords to\n",
      "[nltk_data]     /home/jedipadawan/nltk_data...\n",
      "[nltk_data]   Package stopwords is already up-to-date!\n"
     ]
    }
   ],
   "source": [
    "# path variables\n",
    "DATASET_PATH  = os.environ['DATASET_PATH']\n",
    "TEST_PATH     = os.environ['TEST_PATH']\n",
    "MODEL_PATH    = os.environ['MODEL_PATH']\n",
    "METRICS_PATH  = os.environ[\"METRICS_PATH\"]\n",
    "\n",
    "# downloading and creating a portuguese list fo stopwords\n",
    "nltk.download('stopwords')\n",
    "stop_words = set(stopwords.words('portuguese'))"
   ]
  },
  {
   "cell_type": "markdown",
   "id": "cb16a58f",
   "metadata": {
    "id": "d6dcf002"
   },
   "source": [
    "# 1. Data Extraction"
   ]
  },
  {
   "cell_type": "code",
   "execution_count": 4,
   "id": "de168f58",
   "metadata": {
    "id": "270e5b3f"
   },
   "outputs": [],
   "source": [
    "raw_data = pd.read_csv(DATASET_PATH)\n",
    "\n",
    "test_data = pd.read_csv(TEST_PATH)"
   ]
  },
  {
   "cell_type": "markdown",
   "id": "988fc166",
   "metadata": {
    "id": "9087b33e"
   },
   "source": [
    "# 2. Data Formatting"
   ]
  },
  {
   "cell_type": "markdown",
   "id": "792f22cc",
   "metadata": {},
   "source": [
    "Let's copy the dataframe to make it easier to re-run the code without having to load the data again."
   ]
  },
  {
   "cell_type": "code",
   "execution_count": 5,
   "id": "cf8518c9",
   "metadata": {},
   "outputs": [],
   "source": [
    "df = raw_data"
   ]
  },
  {
   "cell_type": "code",
   "execution_count": 6,
   "id": "c1be7c83",
   "metadata": {},
   "outputs": [],
   "source": [
    "X = df.drop('category', axis =1)[['title', 'query', 'concatenated_tags']]\n",
    "\n",
    "y = df['category']"
   ]
  },
  {
   "cell_type": "markdown",
   "id": "042a006f",
   "metadata": {},
   "source": [
    "## 2.1. Filling Missing Values"
   ]
  },
  {
   "cell_type": "markdown",
   "id": "cf305a09",
   "metadata": {},
   "source": [
    "Since we're just going to use text columns as features, we'll fill missing values only for them."
   ]
  },
  {
   "cell_type": "code",
   "execution_count": 7,
   "id": "8d54791f",
   "metadata": {},
   "outputs": [
    {
     "data": {
      "text/plain": [
       "title                0\n",
       "query                0\n",
       "concatenated_tags    2\n",
       "dtype: int64"
      ]
     },
     "execution_count": 7,
     "metadata": {},
     "output_type": "execute_result"
    }
   ],
   "source": [
    "X.isna().sum()"
   ]
  },
  {
   "cell_type": "markdown",
   "id": "83d05e9c",
   "metadata": {},
   "source": [
    "Even though there's no missing values in `title` and `query` columns (as shown in the output above), we'll keep filling them with an empty string for future deploy purposes."
   ]
  },
  {
   "cell_type": "code",
   "execution_count": 8,
   "id": "07063636",
   "metadata": {},
   "outputs": [],
   "source": [
    "X['concatenated_tags'] = X.concatenated_tags.fillna('')\n",
    "\n",
    "X['title'] = X.concatenated_tags.fillna('')\n",
    "\n",
    "X['query'] = X.concatenated_tags.fillna('')"
   ]
  },
  {
   "cell_type": "markdown",
   "id": "441e6936",
   "metadata": {},
   "source": [
    "## 2.2. Split data into train and validation"
   ]
  },
  {
   "cell_type": "markdown",
   "id": "0ce33d2b",
   "metadata": {},
   "source": [
    "Let's get a portion of the data to create a validation dataset to make our future performance analysis more robust."
   ]
  },
  {
   "cell_type": "code",
   "execution_count": 9,
   "id": "69bd0f47",
   "metadata": {},
   "outputs": [
    {
     "data": {
      "text/plain": [
       "((30400, 3), (30400,), (7600, 3), (7600,))"
      ]
     },
     "execution_count": 9,
     "metadata": {},
     "output_type": "execute_result"
    }
   ],
   "source": [
    "X_train, X_valid, y_train, y_valid = train_test_split(X, y,\n",
    "                                                    test_size=0.2,\n",
    "                                                    stratify=y,\n",
    "                                                    random_state=42)\n",
    "\n",
    "X_train.shape, y_train.shape, X_valid.shape, y_valid.shape"
   ]
  },
  {
   "cell_type": "markdown",
   "id": "5e87f8ac",
   "metadata": {},
   "source": [
    "In order to check the balance of the target variable in the training and testing set, let's count its frequencies for both sets."
   ]
  },
  {
   "cell_type": "code",
   "execution_count": 10,
   "id": "16d4846e",
   "metadata": {},
   "outputs": [
    {
     "name": "stdout",
     "output_type": "stream",
     "text": [
      "-- Y train unique values count --\n",
      "[['Bebê' 5544]\n",
      " ['Bijuterias e Jóias' 752]\n",
      " ['Decoração' 6978]\n",
      " ['Lembrancinhas' 14019]\n",
      " ['Outros' 907]\n",
      " ['Papel e Cia' 2200]] \n",
      "\n",
      "-- Y valid unique values count --\n",
      "[['Bebê' 1386]\n",
      " ['Bijuterias e Jóias' 188]\n",
      " ['Decoração' 1745]\n",
      " ['Lembrancinhas' 3505]\n",
      " ['Outros' 226]\n",
      " ['Papel e Cia' 550]]\n"
     ]
    }
   ],
   "source": [
    "(unique, counts) = np.unique(y_train, return_counts=True)\n",
    "frequencies_y_train = np.asarray((unique, counts)).T\n",
    "\n",
    "\n",
    "(unique, counts) = np.unique(y_valid, return_counts=True)\n",
    "frequencies_y_valid = np.asarray((unique, counts)).T\n",
    "\n",
    "print(\"-- Y train unique values count --\")\n",
    "print(frequencies_y_train, '\\n')\n",
    "\n",
    "print(\"-- Y valid unique values count --\")\n",
    "print(frequencies_y_valid)"
   ]
  },
  {
   "cell_type": "markdown",
   "id": "69da096c",
   "metadata": {},
   "source": [
    "## 2.3. Using text Columns to create the feature"
   ]
  },
  {
   "cell_type": "code",
   "execution_count": 11,
   "id": "b8c28a8e",
   "metadata": {},
   "outputs": [],
   "source": [
    "X_train = create_text_feature(X_train, stop_words)\n",
    "\n",
    "X_valid = create_text_feature(X_valid, stop_words)"
   ]
  },
  {
   "cell_type": "markdown",
   "id": "4bc0be8b",
   "metadata": {},
   "source": [
    "## 2.4. Running the entire data preparation for the test dataset"
   ]
  },
  {
   "cell_type": "code",
   "execution_count": 13,
   "id": "1b55805a",
   "metadata": {},
   "outputs": [],
   "source": [
    "X_test = test_data.drop('category', axis =1)[['title', 'query', 'concatenated_tags']]\n",
    "\n",
    "y_test = test_data['category']"
   ]
  },
  {
   "cell_type": "code",
   "execution_count": 14,
   "id": "a321bb3d",
   "metadata": {},
   "outputs": [],
   "source": [
    "X_test['concatenated_tags'] = X_test.concatenated_tags.fillna('')\n",
    "\n",
    "X_test['title'] = X_test.concatenated_tags.fillna('')\n",
    "\n",
    "X_test['query'] = X_test.concatenated_tags.fillna('')"
   ]
  },
  {
   "cell_type": "code",
   "execution_count": 15,
   "id": "dec3090d",
   "metadata": {},
   "outputs": [],
   "source": [
    "X_test = create_text_feature(X_test, stop_words)"
   ]
  },
  {
   "cell_type": "code",
   "execution_count": 16,
   "id": "909aead9",
   "metadata": {},
   "outputs": [
    {
     "name": "stdout",
     "output_type": "stream",
     "text": [
      "-- Y test unique values count --\n",
      "[['Bebê' 95]\n",
      " ['Bijuterias e Jóias' 11]\n",
      " ['Decoração' 122]\n",
      " ['Lembrancinhas' 230]\n",
      " ['Outros' 15]\n",
      " ['Papel e Cia' 27]] \n",
      "\n"
     ]
    }
   ],
   "source": [
    "(unique, counts) = np.unique(y_test, return_counts=True)\n",
    "frequencies_y_test = np.asarray((unique, counts)).T\n",
    "\n",
    "print(\"-- Y test unique values count --\")\n",
    "print(frequencies_y_test, '\\n')"
   ]
  },
  {
   "cell_type": "markdown",
   "id": "a22f9088",
   "metadata": {
    "id": "1e5fcba0"
   },
   "source": [
    "# 3. Modelling"
   ]
  },
  {
   "cell_type": "markdown",
   "id": "bdce233f",
   "metadata": {},
   "source": [
    "We decided to fit two different models and chose the best one based on the accuracy, precision, and recall metrics.\n",
    "\n",
    "Those models are:\n",
    "- A tree-based model: Random Forest\n",
    "- A Support vector model: S. V. Classifier\n",
    "\n",
    "Since both work differently, we'll be able to take a look at the performance of modelling with different model approaches"
   ]
  },
  {
   "cell_type": "markdown",
   "id": "0760940f",
   "metadata": {},
   "source": [
    "## 3.1. Random Forest Classifier"
   ]
  },
  {
   "cell_type": "code",
   "execution_count": 16,
   "id": "38040a9c",
   "metadata": {},
   "outputs": [],
   "source": [
    "rf_model = RandomForestClassifier(n_estimators=300,random_state=42)"
   ]
  },
  {
   "cell_type": "code",
   "execution_count": 17,
   "id": "17fea478",
   "metadata": {},
   "outputs": [
    {
     "name": "stdout",
     "output_type": "stream",
     "text": [
      "CPU times: user 4min 4s, sys: 527 ms, total: 4min 5s\n",
      "Wall time: 4min 5s\n"
     ]
    }
   ],
   "source": [
    "%%time\n",
    "rf_pipeline = create_fit_pipeline(X_train, y_train, rf_model)"
   ]
  },
  {
   "cell_type": "markdown",
   "id": "8329471c",
   "metadata": {},
   "source": [
    "## 3.2. Support Vector Machine Classifier"
   ]
  },
  {
   "cell_type": "code",
   "execution_count": 18,
   "id": "ca403a41",
   "metadata": {},
   "outputs": [],
   "source": [
    "svc_model = SVC(C=10, kernel=\"rbf\", random_state=42)"
   ]
  },
  {
   "cell_type": "code",
   "execution_count": 19,
   "id": "4b830b02",
   "metadata": {},
   "outputs": [
    {
     "name": "stdout",
     "output_type": "stream",
     "text": [
      "CPU times: user 3min 15s, sys: 496 ms, total: 3min 16s\n",
      "Wall time: 3min 16s\n"
     ]
    }
   ],
   "source": [
    "%%time\n",
    "svc_pipeline = create_fit_pipeline(X_train, y_train, svc_model)"
   ]
  },
  {
   "cell_type": "markdown",
   "id": "b0baa4b4",
   "metadata": {
    "id": "94304fca"
   },
   "source": [
    "# 4. Model Validation\n",
    "\n",
    "**Conclusions:**\n",
    "\n",
    "- Random Forest Classifier: higher precision for some categories, lower recall.\n",
    "- Support Vector Machine Classifier: lower precision, higher recall. Also, it has a higher f1 score and accuracy.\n",
    "\n",
    "Since SVM Classifier performed better in terms of recall, which means it has less false negatives than RF classifier, it was chosen as the best model. Also, in terms of f1-score, SVM shows a better balance between precision and recall.\n",
    "\n",
    "In terms of processing time, SVM Classifier took only about one minute more than RF, even though this difference would be higher if we were using more features.\n",
    "\n",
    "**Evaluation on Test set:**\n",
    "\n",
    "The performance on testing dataset was slightly lowest than in the validation set. The overall accuracy, recall and f1-score was lower, indicating that we still have to work better on the model selection and tuning.\n",
    "Maybe we could overcome this by using other columns as features, which could bring us a more generalization power."
   ]
  },
  {
   "cell_type": "markdown",
   "id": "b68d812c",
   "metadata": {},
   "source": [
    "Before evaluating the models, let's create a list containing the target labels to be used in the confusion matrix plot."
   ]
  },
  {
   "cell_type": "code",
   "execution_count": 20,
   "id": "c723d505",
   "metadata": {},
   "outputs": [],
   "source": [
    "target_labels = df['category'].sort_values().unique()"
   ]
  },
  {
   "cell_type": "markdown",
   "id": "6a034ad1",
   "metadata": {},
   "source": [
    "## 4.1. Evaluating model on the validation set"
   ]
  },
  {
   "cell_type": "markdown",
   "id": "593f6a2e",
   "metadata": {},
   "source": [
    "## 4.1.1. Random Forest Classifier"
   ]
  },
  {
   "cell_type": "code",
   "execution_count": 21,
   "id": "e7b56ed1",
   "metadata": {},
   "outputs": [],
   "source": [
    "rf_predictions = rf_pipeline.predict(X_valid)"
   ]
  },
  {
   "cell_type": "code",
   "execution_count": 33,
   "id": "dda5d06b",
   "metadata": {},
   "outputs": [
    {
     "name": "stdout",
     "output_type": "stream",
     "text": [
      "Random Forest Classifier - Validation Metrics\n",
      "                    precision    recall  f1-score   support\n",
      "\n",
      "              Bebê       0.91      0.84      0.87      1386\n",
      "Bijuterias e Jóias       0.96      0.85      0.90       188\n",
      "         Decoração       0.85      0.88      0.87      1745\n",
      "     Lembrancinhas       0.88      0.94      0.91      3505\n",
      "            Outros       0.86      0.57      0.68       226\n",
      "       Papel e Cia       0.87      0.65      0.74       550\n",
      "\n",
      "          accuracy                           0.88      7600\n",
      "         macro avg       0.89      0.79      0.83      7600\n",
      "      weighted avg       0.88      0.88      0.87      7600\n",
      "\n"
     ]
    }
   ],
   "source": [
    "rf_report = classification_report(y_valid, rf_predictions)\n",
    "\n",
    "with open(METRICS_PATH, \"a\") as metrics_file:\n",
    "    \n",
    "    print(\"Random Forest Classifier - Validation Metrics\", file=metrics_file)\n",
    "    \n",
    "    print(rf_report + '\\n\\n', file=metrics_file)\n",
    "    \n",
    "print(\"Random Forest Classifier - Validation Metrics\")\n",
    "\n",
    "print(rf_report)"
   ]
  },
  {
   "cell_type": "code",
   "execution_count": 23,
   "id": "56bab220",
   "metadata": {},
   "outputs": [
    {
     "data": {
      "image/png": "[encoded data removed]",
      "text/plain": [
       "<Figure size 1080x504 with 2 Axes>"
      ]
     },
     "metadata": {
      "needs_background": "light"
     },
     "output_type": "display_data"
    }
   ],
   "source": [
    "plot_cm(y_valid.values, rf_predictions, target_labels)"
   ]
  },
  {
   "cell_type": "markdown",
   "id": "a5fed46b",
   "metadata": {},
   "source": [
    "## 4.1.2. Support Vector Machine Classifier"
   ]
  },
  {
   "cell_type": "code",
   "execution_count": 35,
   "id": "d40c2ca2",
   "metadata": {},
   "outputs": [],
   "source": [
    "svc_predictions = svc_pipeline.predict(X_valid)"
   ]
  },
  {
   "cell_type": "code",
   "execution_count": 36,
   "id": "7b6e9ebb",
   "metadata": {},
   "outputs": [
    {
     "name": "stdout",
     "output_type": "stream",
     "text": [
      "Support Vector Classifier - Validation Metrics\n",
      "                    precision    recall  f1-score   support\n",
      "\n",
      "              Bebê       0.90      0.86      0.88      1386\n",
      "Bijuterias e Jóias       0.97      0.87      0.92       188\n",
      "         Decoração       0.89      0.88      0.88      1745\n",
      "     Lembrancinhas       0.88      0.94      0.91      3505\n",
      "            Outros       0.86      0.63      0.73       226\n",
      "       Papel e Cia       0.86      0.71      0.77       550\n",
      "\n",
      "          accuracy                           0.89      7600\n",
      "         macro avg       0.89      0.82      0.85      7600\n",
      "      weighted avg       0.89      0.89      0.88      7600\n",
      "\n"
     ]
    }
   ],
   "source": [
    "svc_report = classification_report(y_valid, svc_predictions)\n",
    "\n",
    "with open(METRICS_PATH, \"a\") as metrics_file:\n",
    "    \n",
    "    print(\"Support Vector Classifier - Validation Metrics\", file=metrics_file)\n",
    "    \n",
    "    print(svc_report + '\\n\\n', file=metrics_file)\n",
    "    \n",
    "\n",
    "print(\"Support Vector Classifier - Validation Metrics\")\n",
    "\n",
    "print(svc_report)"
   ]
  },
  {
   "cell_type": "code",
   "execution_count": 27,
   "id": "fa3b4282",
   "metadata": {},
   "outputs": [
    {
     "data": {
      "image/png": "[encoded data removed]",
      "text/plain": [
       "<Figure size 1080x504 with 2 Axes>"
      ]
     },
     "metadata": {
      "needs_background": "light"
     },
     "output_type": "display_data"
    }
   ],
   "source": [
    "plot_cm(y_valid.values, svc_predictions, target_labels)"
   ]
  },
  {
   "cell_type": "markdown",
   "id": "0bd64632",
   "metadata": {},
   "source": [
    "## 4.2. Evaluating the chosen model on the test set"
   ]
  },
  {
   "cell_type": "markdown",
   "id": "32a284c2",
   "metadata": {},
   "source": [
    "Since we chose the best model, let's now take a look at its performance on the testing dataset."
   ]
  },
  {
   "cell_type": "code",
   "execution_count": 37,
   "id": "48f00d4c",
   "metadata": {},
   "outputs": [],
   "source": [
    "svc_predictions = svc_pipeline.predict(X_test)"
   ]
  },
  {
   "cell_type": "code",
   "execution_count": 38,
   "id": "2d5735ab",
   "metadata": {},
   "outputs": [
    {
     "name": "stdout",
     "output_type": "stream",
     "text": [
      "Support Vector Classifier - Test Metrics\n",
      "                    precision    recall  f1-score   support\n",
      "\n",
      "              Bebê       0.93      0.85      0.89        95\n",
      "Bijuterias e Jóias       1.00      0.82      0.90        11\n",
      "         Decoração       0.92      0.91      0.91       122\n",
      "     Lembrancinhas       0.89      0.96      0.92       230\n",
      "            Outros       0.85      0.73      0.79        15\n",
      "       Papel e Cia       0.86      0.70      0.78        27\n",
      "\n",
      "          accuracy                           0.90       500\n",
      "         macro avg       0.91      0.83      0.86       500\n",
      "      weighted avg       0.90      0.90      0.90       500\n",
      "\n"
     ]
    }
   ],
   "source": [
    "svc_report = classification_report(y_test, svc_predictions)\n",
    "\n",
    "with open(METRICS_PATH, \"a\") as metrics_file:\n",
    "    \n",
    "    print(\"Support Vector Classifier - Test Metrics\", file=metrics_file)\n",
    "    \n",
    "    print(svc_report + '\\n\\n', file=metrics_file)\n",
    "    \n",
    "\n",
    "print(\"Support Vector Classifier - Test Metrics\")\n",
    "\n",
    "print(svc_report)"
   ]
  },
  {
   "cell_type": "code",
   "execution_count": 39,
   "id": "f43bf93d",
   "metadata": {},
   "outputs": [
    {
     "name": "stdout",
     "output_type": "stream",
     "text": [
      "Random Forest Classifier - Validation Metrics\r\n",
      "                    precision    recall  f1-score   support\r\n",
      "\r\n",
      "              Bebê       0.91      0.84      0.87      1386\r\n",
      "Bijuterias e Jóias       0.96      0.85      0.90       188\r\n",
      "         Decoração       0.85      0.88      0.87      1745\r\n",
      "     Lembrancinhas       0.88      0.94      0.91      3505\r\n",
      "            Outros       0.86      0.57      0.68       226\r\n",
      "       Papel e Cia       0.87      0.65      0.74       550\r\n",
      "\r\n",
      "          accuracy                           0.88      7600\r\n",
      "         macro avg       0.89      0.79      0.83      7600\r\n",
      "      weighted avg       0.88      0.88      0.87      7600\r\n",
      "\r\n",
      "\r\n",
      "\r\n",
      "Support Vector Classifier - Validation Metrics\r\n",
      "                    precision    recall  f1-score   support\r\n",
      "\r\n",
      "              Bebê       0.90      0.86      0.88      1386\r\n",
      "Bijuterias e Jóias       0.97      0.87      0.92       188\r\n",
      "         Decoração       0.89      0.88      0.88      1745\r\n",
      "     Lembrancinhas       0.88      0.94      0.91      3505\r\n",
      "            Outros       0.86      0.63      0.73       226\r\n",
      "       Papel e Cia       0.86      0.71      0.77       550\r\n",
      "\r\n",
      "          accuracy                           0.89      7600\r\n",
      "         macro avg       0.89      0.82      0.85      7600\r\n",
      "      weighted avg       0.89      0.89      0.88      7600\r\n",
      "\r\n",
      "\r\n",
      "\r\n",
      "Support Vector Classifier - Test Metrics\r\n",
      "                    precision    recall  f1-score   support\r\n",
      "\r\n",
      "              Bebê       0.93      0.85      0.89        95\r\n",
      "Bijuterias e Jóias       1.00      0.82      0.90        11\r\n",
      "         Decoração       0.92      0.91      0.91       122\r\n",
      "     Lembrancinhas       0.89      0.96      0.92       230\r\n",
      "            Outros       0.85      0.73      0.79        15\r\n",
      "       Papel e Cia       0.86      0.70      0.78        27\r\n",
      "\r\n",
      "          accuracy                           0.90       500\r\n",
      "         macro avg       0.91      0.83      0.86       500\r\n",
      "      weighted avg       0.90      0.90      0.90       500\r\n",
      "\r\n",
      "\r\n",
      "\r\n"
     ]
    }
   ],
   "source": [
    "!cat {METRICS_PATH}"
   ]
  },
  {
   "cell_type": "markdown",
   "id": "8f3065e5",
   "metadata": {
    "id": "7b7bced7"
   },
   "source": [
    "# 5. Model exportation"
   ]
  },
  {
   "cell_type": "code",
   "execution_count": 30,
   "id": "3c25983e",
   "metadata": {
    "id": "47b522b7"
   },
   "outputs": [],
   "source": [
    "save_pickle(svc_pipeline, MODEL_PATH)"
   ]
  }
 ],
 "metadata": {
  "colab": {
   "name": "trainer.ipynb",
   "provenance": []
  },
  "kernelspec": {
   "display_name": "Python 3 (ipykernel)",
   "language": "python",
   "name": "python3"
  },
  "language_info": {
   "codemirror_mode": {
    "name": "ipython",
    "version": 3
   },
   "file_extension": ".py",
   "mimetype": "text/x-python",
   "name": "python",
   "nbconvert_exporter": "python",
   "pygments_lexer": "ipython3",
   "version": "3.9.7"
  }
 },
 "nbformat": 4,
 "nbformat_minor": 5
}
